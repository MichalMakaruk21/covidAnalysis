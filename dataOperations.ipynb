{
 "cells": [
  {
   "cell_type": "code",
   "execution_count": 6,
   "metadata": {
    "collapsed": true,
    "pycharm": {
     "name": "#%%\n"
    }
   },
   "outputs": [],
   "source": [
    "import pandas as pd\n",
    "import numpy as np\n",
    "from functools import reduce\n",
    "from IPython.display import display"
   ]
  },
  {
   "cell_type": "code",
   "execution_count": 7,
   "outputs": [],
   "source": [
    "vaccinationsDF = pd.read_csv('dataFiles/vaccinations.csv', sep=',', header=0)\n",
    "casesDF = pd.read_csv('dataFiles/covidCases.csv', sep=',', header=0)"
   ],
   "metadata": {
    "collapsed": false,
    "pycharm": {
     "name": "#%%\n"
    }
   }
  },
  {
   "cell_type": "code",
   "execution_count": 14,
   "outputs": [],
   "source": [
    "vaccinationsDF['date'] = pd.to_datetime(vaccinationsDF['date'], format='%Y-%m-%d').apply(lambda x: x.toordinal())\n",
    "casesDF['Date_reported'] = pd.to_datetime(casesDF['Date_reported'], format='%Y-%m-%d').apply(lambda x: x.toordinal())"
   ],
   "metadata": {
    "collapsed": false,
    "pycharm": {
     "name": "#%%\n"
    }
   }
  },
  {
   "cell_type": "code",
   "execution_count": 16,
   "outputs": [
    {
     "data": {
      "text/plain": "   Date_reported Country_code      Country WHO_region  New_cases  \\\n0         737427           AF  Afghanistan       EMRO          0   \n1         737428           AF  Afghanistan       EMRO          0   \n2         737429           AF  Afghanistan       EMRO          0   \n3         737430           AF  Afghanistan       EMRO          0   \n4         737431           AF  Afghanistan       EMRO          0   \n\n   Cumulative_cases  New_deaths  Cumulative_deaths  \n0                 0           0                  0  \n1                 0           0                  0  \n2                 0           0                  0  \n3                 0           0                  0  \n4                 0           0                  0  ",
      "text/html": "<div>\n<style scoped>\n    .dataframe tbody tr th:only-of-type {\n        vertical-align: middle;\n    }\n\n    .dataframe tbody tr th {\n        vertical-align: top;\n    }\n\n    .dataframe thead th {\n        text-align: right;\n    }\n</style>\n<table border=\"1\" class=\"dataframe\">\n  <thead>\n    <tr style=\"text-align: right;\">\n      <th></th>\n      <th>Date_reported</th>\n      <th>Country_code</th>\n      <th>Country</th>\n      <th>WHO_region</th>\n      <th>New_cases</th>\n      <th>Cumulative_cases</th>\n      <th>New_deaths</th>\n      <th>Cumulative_deaths</th>\n    </tr>\n  </thead>\n  <tbody>\n    <tr>\n      <th>0</th>\n      <td>737427</td>\n      <td>AF</td>\n      <td>Afghanistan</td>\n      <td>EMRO</td>\n      <td>0</td>\n      <td>0</td>\n      <td>0</td>\n      <td>0</td>\n    </tr>\n    <tr>\n      <th>1</th>\n      <td>737428</td>\n      <td>AF</td>\n      <td>Afghanistan</td>\n      <td>EMRO</td>\n      <td>0</td>\n      <td>0</td>\n      <td>0</td>\n      <td>0</td>\n    </tr>\n    <tr>\n      <th>2</th>\n      <td>737429</td>\n      <td>AF</td>\n      <td>Afghanistan</td>\n      <td>EMRO</td>\n      <td>0</td>\n      <td>0</td>\n      <td>0</td>\n      <td>0</td>\n    </tr>\n    <tr>\n      <th>3</th>\n      <td>737430</td>\n      <td>AF</td>\n      <td>Afghanistan</td>\n      <td>EMRO</td>\n      <td>0</td>\n      <td>0</td>\n      <td>0</td>\n      <td>0</td>\n    </tr>\n    <tr>\n      <th>4</th>\n      <td>737431</td>\n      <td>AF</td>\n      <td>Afghanistan</td>\n      <td>EMRO</td>\n      <td>0</td>\n      <td>0</td>\n      <td>0</td>\n      <td>0</td>\n    </tr>\n  </tbody>\n</table>\n</div>"
     },
     "metadata": {},
     "output_type": "display_data"
    },
    {
     "data": {
      "text/plain": "      location iso_code    date  total_vaccinations  people_vaccinated  \\\n0  Afghanistan      AFG  719163                 0.0                0.0   \n1  Afghanistan      AFG  719163                 NaN                NaN   \n2  Afghanistan      AFG  719163                 NaN                NaN   \n3  Afghanistan      AFG  719163                 NaN                NaN   \n4  Afghanistan      AFG  719163                 NaN                NaN   \n\n   people_fully_vaccinated  total_boosters  daily_vaccinations_raw  \\\n0                      NaN             NaN                     NaN   \n1                      NaN             NaN                     NaN   \n2                      NaN             NaN                     NaN   \n3                      NaN             NaN                     NaN   \n4                      NaN             NaN                     NaN   \n\n   daily_vaccinations  total_vaccinations_per_hundred  \\\n0                 NaN                             0.0   \n1              1367.0                             NaN   \n2              1367.0                             NaN   \n3              1367.0                             NaN   \n4              1367.0                             NaN   \n\n   people_vaccinated_per_hundred  people_fully_vaccinated_per_hundred  \\\n0                            0.0                                  NaN   \n1                            NaN                                  NaN   \n2                            NaN                                  NaN   \n3                            NaN                                  NaN   \n4                            NaN                                  NaN   \n\n   total_boosters_per_hundred  daily_vaccinations_per_million  \\\n0                         NaN                             NaN   \n1                         NaN                            34.0   \n2                         NaN                            34.0   \n3                         NaN                            34.0   \n4                         NaN                            34.0   \n\n   daily_people_vaccinated  daily_people_vaccinated_per_hundred  \n0                      NaN                                  NaN  \n1                   1367.0                                0.003  \n2                   1367.0                                0.003  \n3                   1367.0                                0.003  \n4                   1367.0                                0.003  ",
      "text/html": "<div>\n<style scoped>\n    .dataframe tbody tr th:only-of-type {\n        vertical-align: middle;\n    }\n\n    .dataframe tbody tr th {\n        vertical-align: top;\n    }\n\n    .dataframe thead th {\n        text-align: right;\n    }\n</style>\n<table border=\"1\" class=\"dataframe\">\n  <thead>\n    <tr style=\"text-align: right;\">\n      <th></th>\n      <th>location</th>\n      <th>iso_code</th>\n      <th>date</th>\n      <th>total_vaccinations</th>\n      <th>people_vaccinated</th>\n      <th>people_fully_vaccinated</th>\n      <th>total_boosters</th>\n      <th>daily_vaccinations_raw</th>\n      <th>daily_vaccinations</th>\n      <th>total_vaccinations_per_hundred</th>\n      <th>people_vaccinated_per_hundred</th>\n      <th>people_fully_vaccinated_per_hundred</th>\n      <th>total_boosters_per_hundred</th>\n      <th>daily_vaccinations_per_million</th>\n      <th>daily_people_vaccinated</th>\n      <th>daily_people_vaccinated_per_hundred</th>\n    </tr>\n  </thead>\n  <tbody>\n    <tr>\n      <th>0</th>\n      <td>Afghanistan</td>\n      <td>AFG</td>\n      <td>719163</td>\n      <td>0.0</td>\n      <td>0.0</td>\n      <td>NaN</td>\n      <td>NaN</td>\n      <td>NaN</td>\n      <td>NaN</td>\n      <td>0.0</td>\n      <td>0.0</td>\n      <td>NaN</td>\n      <td>NaN</td>\n      <td>NaN</td>\n      <td>NaN</td>\n      <td>NaN</td>\n    </tr>\n    <tr>\n      <th>1</th>\n      <td>Afghanistan</td>\n      <td>AFG</td>\n      <td>719163</td>\n      <td>NaN</td>\n      <td>NaN</td>\n      <td>NaN</td>\n      <td>NaN</td>\n      <td>NaN</td>\n      <td>1367.0</td>\n      <td>NaN</td>\n      <td>NaN</td>\n      <td>NaN</td>\n      <td>NaN</td>\n      <td>34.0</td>\n      <td>1367.0</td>\n      <td>0.003</td>\n    </tr>\n    <tr>\n      <th>2</th>\n      <td>Afghanistan</td>\n      <td>AFG</td>\n      <td>719163</td>\n      <td>NaN</td>\n      <td>NaN</td>\n      <td>NaN</td>\n      <td>NaN</td>\n      <td>NaN</td>\n      <td>1367.0</td>\n      <td>NaN</td>\n      <td>NaN</td>\n      <td>NaN</td>\n      <td>NaN</td>\n      <td>34.0</td>\n      <td>1367.0</td>\n      <td>0.003</td>\n    </tr>\n    <tr>\n      <th>3</th>\n      <td>Afghanistan</td>\n      <td>AFG</td>\n      <td>719163</td>\n      <td>NaN</td>\n      <td>NaN</td>\n      <td>NaN</td>\n      <td>NaN</td>\n      <td>NaN</td>\n      <td>1367.0</td>\n      <td>NaN</td>\n      <td>NaN</td>\n      <td>NaN</td>\n      <td>NaN</td>\n      <td>34.0</td>\n      <td>1367.0</td>\n      <td>0.003</td>\n    </tr>\n    <tr>\n      <th>4</th>\n      <td>Afghanistan</td>\n      <td>AFG</td>\n      <td>719163</td>\n      <td>NaN</td>\n      <td>NaN</td>\n      <td>NaN</td>\n      <td>NaN</td>\n      <td>NaN</td>\n      <td>1367.0</td>\n      <td>NaN</td>\n      <td>NaN</td>\n      <td>NaN</td>\n      <td>NaN</td>\n      <td>34.0</td>\n      <td>1367.0</td>\n      <td>0.003</td>\n    </tr>\n  </tbody>\n</table>\n</div>"
     },
     "metadata": {},
     "output_type": "display_data"
    }
   ],
   "source": [
    "display(casesDF.head(5))\n",
    "display(vaccinationsDF.head(5))"
   ],
   "metadata": {
    "collapsed": false,
    "pycharm": {
     "name": "#%%\n"
    }
   }
  },
  {
   "cell_type": "code",
   "execution_count": 17,
   "outputs": [
    {
     "data": {
      "text/plain": "       Date_reported     New_cases  Cumulative_cases     New_deaths  \\\ncount  232023.000000  2.320230e+05      2.320230e+05  232023.000000   \nmean   737916.000000  2.601948e+03      8.514767e+05      27.946092   \nstd       282.613418  1.651634e+04      4.226513e+06     153.492414   \nmin    737427.000000 -3.295200e+04      0.000000e+00   -2440.000000   \n25%    737671.000000  0.000000e+00      4.890000e+02       0.000000   \n50%    737916.000000  2.200000e+01      1.674200e+04       0.000000   \n75%    738161.000000  4.860000e+02      2.317500e+05       5.000000   \nmax    738405.000000  1.255833e+06      9.358072e+07   11447.000000   \n\n       Cumulative_deaths  \ncount       2.320230e+05  \nmean        1.376836e+04  \nstd         6.195040e+04  \nmin         0.000000e+00  \n25%         6.000000e+00  \n50%         2.060000e+02  \n75%         3.583000e+03  \nmax         1.036949e+06  ",
      "text/html": "<div>\n<style scoped>\n    .dataframe tbody tr th:only-of-type {\n        vertical-align: middle;\n    }\n\n    .dataframe tbody tr th {\n        vertical-align: top;\n    }\n\n    .dataframe thead th {\n        text-align: right;\n    }\n</style>\n<table border=\"1\" class=\"dataframe\">\n  <thead>\n    <tr style=\"text-align: right;\">\n      <th></th>\n      <th>Date_reported</th>\n      <th>New_cases</th>\n      <th>Cumulative_cases</th>\n      <th>New_deaths</th>\n      <th>Cumulative_deaths</th>\n    </tr>\n  </thead>\n  <tbody>\n    <tr>\n      <th>count</th>\n      <td>232023.000000</td>\n      <td>2.320230e+05</td>\n      <td>2.320230e+05</td>\n      <td>232023.000000</td>\n      <td>2.320230e+05</td>\n    </tr>\n    <tr>\n      <th>mean</th>\n      <td>737916.000000</td>\n      <td>2.601948e+03</td>\n      <td>8.514767e+05</td>\n      <td>27.946092</td>\n      <td>1.376836e+04</td>\n    </tr>\n    <tr>\n      <th>std</th>\n      <td>282.613418</td>\n      <td>1.651634e+04</td>\n      <td>4.226513e+06</td>\n      <td>153.492414</td>\n      <td>6.195040e+04</td>\n    </tr>\n    <tr>\n      <th>min</th>\n      <td>737427.000000</td>\n      <td>-3.295200e+04</td>\n      <td>0.000000e+00</td>\n      <td>-2440.000000</td>\n      <td>0.000000e+00</td>\n    </tr>\n    <tr>\n      <th>25%</th>\n      <td>737671.000000</td>\n      <td>0.000000e+00</td>\n      <td>4.890000e+02</td>\n      <td>0.000000</td>\n      <td>6.000000e+00</td>\n    </tr>\n    <tr>\n      <th>50%</th>\n      <td>737916.000000</td>\n      <td>2.200000e+01</td>\n      <td>1.674200e+04</td>\n      <td>0.000000</td>\n      <td>2.060000e+02</td>\n    </tr>\n    <tr>\n      <th>75%</th>\n      <td>738161.000000</td>\n      <td>4.860000e+02</td>\n      <td>2.317500e+05</td>\n      <td>5.000000</td>\n      <td>3.583000e+03</td>\n    </tr>\n    <tr>\n      <th>max</th>\n      <td>738405.000000</td>\n      <td>1.255833e+06</td>\n      <td>9.358072e+07</td>\n      <td>11447.000000</td>\n      <td>1.036949e+06</td>\n    </tr>\n  </tbody>\n</table>\n</div>"
     },
     "metadata": {},
     "output_type": "display_data"
    }
   ],
   "source": [
    "display(casesDF.describe())"
   ],
   "metadata": {
    "collapsed": false,
    "pycharm": {
     "name": "#%%\n"
    }
   }
  },
  {
   "cell_type": "code",
   "execution_count": null,
   "outputs": [],
   "source": [
    "df = reduce(lambda left, right: pd.merge(left, right, on=['KodTeryt'], how='outer'), [casesDF, vaccinationsDF])"
   ],
   "metadata": {
    "collapsed": false,
    "pycharm": {
     "name": "#%%\n"
    }
   }
  }
 ],
 "metadata": {
  "kernelspec": {
   "display_name": "Python 3",
   "language": "python",
   "name": "python3"
  },
  "language_info": {
   "codemirror_mode": {
    "name": "ipython",
    "version": 2
   },
   "file_extension": ".py",
   "mimetype": "text/x-python",
   "name": "python",
   "nbconvert_exporter": "python",
   "pygments_lexer": "ipython2",
   "version": "2.7.6"
  }
 },
 "nbformat": 4,
 "nbformat_minor": 0
}