{
 "cells": [
  {
   "cell_type": "code",
   "execution_count": 70,
   "metadata": {
    "collapsed": true,
    "pycharm": {
     "name": "#%%\n"
    }
   },
   "outputs": [],
   "source": [
    "import pandas as pd\n",
    "import numpy as np\n",
    "from functools import reduce\n",
    "from IPython.display import display\n",
    "import re"
   ]
  },
  {
   "cell_type": "code",
   "execution_count": 71,
   "outputs": [],
   "source": [
    "vaccinationsDF = pd.read_csv('dataFiles/vaccinations.csv', sep=',', header=0, na_filter=False)\n",
    "casesDF = pd.read_csv('dataFiles/covidCases.csv', sep=',', header=0, na_filter=False)\n",
    "iso_codesDF = pd.read_csv('dataFiles/iso_codes.csv', sep=',', header=1, na_filter=False)"
   ],
   "metadata": {
    "collapsed": false,
    "pycharm": {
     "name": "#%%\n"
    }
   }
  },
  {
   "cell_type": "code",
   "execution_count": 72,
   "outputs": [
    {
     "data": {
      "text/plain": "                                         Country name  \\\n0                                         Afghanistan   \n1    Akrotiri and Dhekelia – See United Kingdom, The.   \n2                                       Åland Islands   \n3                                             Albania   \n4                                             Algeria   \n..                                                ...   \n275                                 Wallis and Futuna   \n276                                    Western Sahara   \n277                                             Yemen   \n278                                            Zambia   \n279                                          Zimbabwe   \n\n                                  Official state name  \\\n0                 The Islamic Republic of Afghanistan   \n1    Akrotiri and Dhekelia – See United Kingdom, The.   \n2                                               Åland   \n3                             The Republic of Albania   \n4         The People's Democratic Republic of Algeria   \n..                                                ...   \n275    The Territory of the Wallis and Futuna Islands   \n276              The Sahrawi Arab Democratic Republic   \n277                             The Republic of Yemen   \n278                            The Republic of Zambia   \n279                          The Republic of Zimbabwe   \n\n                                          Sovereignty  \\\n0                                     UN member state   \n1    Akrotiri and Dhekelia – See United Kingdom, The.   \n2                                             Finland   \n3                                     UN member state   \n4                                     UN member state   \n..                                                ...   \n275                                            France   \n276                                          Disputed   \n277                                   UN member state   \n278                                   UN member state   \n279                                   UN member state   \n\n                                         Alpha-2 code  \\\n0                                                  AF   \n1    Akrotiri and Dhekelia – See United Kingdom, The.   \n2                                                  AX   \n3                                                  AL   \n4                                                  DZ   \n..                                                ...   \n275                                                WF   \n276                                                EH   \n277                                                YE   \n278                                                ZM   \n279                                                ZW   \n\n                                         Alpha-3 code  \\\n0                                                 AFG   \n1    Akrotiri and Dhekelia – See United Kingdom, The.   \n2                                                 ALA   \n3                                                 ALB   \n4                                                 DZA   \n..                                                ...   \n275                                               WLF   \n276                                               ESH   \n277                                               YEM   \n278                                               ZMB   \n279                                               ZWE   \n\n                                         Numeric code  \\\n0                                                 004   \n1    Akrotiri and Dhekelia – See United Kingdom, The.   \n2                                                 248   \n3                                                 008   \n4                                                 012   \n..                                                ...   \n275                                               876   \n276                                               732   \n277                                               887   \n278                                               894   \n279                                               716   \n\n                               Subdivision code links  \\\n0                                       ISO 3166-2:AF   \n1    Akrotiri and Dhekelia – See United Kingdom, The.   \n2                                       ISO 3166-2:AX   \n3                                       ISO 3166-2:AL   \n4                                       ISO 3166-2:DZ   \n..                                                ...   \n275                                     ISO 3166-2:WF   \n276                                     ISO 3166-2:EH   \n277                                     ISO 3166-2:YE   \n278                                     ISO 3166-2:ZM   \n279                                     ISO 3166-2:ZW   \n\n                                       Internet ccTLD  \n0                                                 .af  \n1    Akrotiri and Dhekelia – See United Kingdom, The.  \n2                                                 .ax  \n3                                                 .al  \n4                                                 .dz  \n..                                                ...  \n275                                               .wf  \n276                                                    \n277                                               .ye  \n278                                               .zm  \n279                                               .zw  \n\n[280 rows x 8 columns]",
      "text/html": "<div>\n<style scoped>\n    .dataframe tbody tr th:only-of-type {\n        vertical-align: middle;\n    }\n\n    .dataframe tbody tr th {\n        vertical-align: top;\n    }\n\n    .dataframe thead th {\n        text-align: right;\n    }\n</style>\n<table border=\"1\" class=\"dataframe\">\n  <thead>\n    <tr style=\"text-align: right;\">\n      <th></th>\n      <th>Country name</th>\n      <th>Official state name</th>\n      <th>Sovereignty</th>\n      <th>Alpha-2 code</th>\n      <th>Alpha-3 code</th>\n      <th>Numeric code</th>\n      <th>Subdivision code links</th>\n      <th>Internet ccTLD</th>\n    </tr>\n  </thead>\n  <tbody>\n    <tr>\n      <th>0</th>\n      <td>Afghanistan</td>\n      <td>The Islamic Republic of Afghanistan</td>\n      <td>UN member state</td>\n      <td>AF</td>\n      <td>AFG</td>\n      <td>004</td>\n      <td>ISO 3166-2:AF</td>\n      <td>.af</td>\n    </tr>\n    <tr>\n      <th>1</th>\n      <td>Akrotiri and Dhekelia – See United Kingdom, The.</td>\n      <td>Akrotiri and Dhekelia – See United Kingdom, The.</td>\n      <td>Akrotiri and Dhekelia – See United Kingdom, The.</td>\n      <td>Akrotiri and Dhekelia – See United Kingdom, The.</td>\n      <td>Akrotiri and Dhekelia – See United Kingdom, The.</td>\n      <td>Akrotiri and Dhekelia – See United Kingdom, The.</td>\n      <td>Akrotiri and Dhekelia – See United Kingdom, The.</td>\n      <td>Akrotiri and Dhekelia – See United Kingdom, The.</td>\n    </tr>\n    <tr>\n      <th>2</th>\n      <td>Åland Islands</td>\n      <td>Åland</td>\n      <td>Finland</td>\n      <td>AX</td>\n      <td>ALA</td>\n      <td>248</td>\n      <td>ISO 3166-2:AX</td>\n      <td>.ax</td>\n    </tr>\n    <tr>\n      <th>3</th>\n      <td>Albania</td>\n      <td>The Republic of Albania</td>\n      <td>UN member state</td>\n      <td>AL</td>\n      <td>ALB</td>\n      <td>008</td>\n      <td>ISO 3166-2:AL</td>\n      <td>.al</td>\n    </tr>\n    <tr>\n      <th>4</th>\n      <td>Algeria</td>\n      <td>The People's Democratic Republic of Algeria</td>\n      <td>UN member state</td>\n      <td>DZ</td>\n      <td>DZA</td>\n      <td>012</td>\n      <td>ISO 3166-2:DZ</td>\n      <td>.dz</td>\n    </tr>\n    <tr>\n      <th>...</th>\n      <td>...</td>\n      <td>...</td>\n      <td>...</td>\n      <td>...</td>\n      <td>...</td>\n      <td>...</td>\n      <td>...</td>\n      <td>...</td>\n    </tr>\n    <tr>\n      <th>275</th>\n      <td>Wallis and Futuna</td>\n      <td>The Territory of the Wallis and Futuna Islands</td>\n      <td>France</td>\n      <td>WF</td>\n      <td>WLF</td>\n      <td>876</td>\n      <td>ISO 3166-2:WF</td>\n      <td>.wf</td>\n    </tr>\n    <tr>\n      <th>276</th>\n      <td>Western Sahara</td>\n      <td>The Sahrawi Arab Democratic Republic</td>\n      <td>Disputed</td>\n      <td>EH</td>\n      <td>ESH</td>\n      <td>732</td>\n      <td>ISO 3166-2:EH</td>\n      <td></td>\n    </tr>\n    <tr>\n      <th>277</th>\n      <td>Yemen</td>\n      <td>The Republic of Yemen</td>\n      <td>UN member state</td>\n      <td>YE</td>\n      <td>YEM</td>\n      <td>887</td>\n      <td>ISO 3166-2:YE</td>\n      <td>.ye</td>\n    </tr>\n    <tr>\n      <th>278</th>\n      <td>Zambia</td>\n      <td>The Republic of Zambia</td>\n      <td>UN member state</td>\n      <td>ZM</td>\n      <td>ZMB</td>\n      <td>894</td>\n      <td>ISO 3166-2:ZM</td>\n      <td>.zm</td>\n    </tr>\n    <tr>\n      <th>279</th>\n      <td>Zimbabwe</td>\n      <td>The Republic of Zimbabwe</td>\n      <td>UN member state</td>\n      <td>ZW</td>\n      <td>ZWE</td>\n      <td>716</td>\n      <td>ISO 3166-2:ZW</td>\n      <td>.zw</td>\n    </tr>\n  </tbody>\n</table>\n<p>280 rows × 8 columns</p>\n</div>"
     },
     "metadata": {},
     "output_type": "display_data"
    }
   ],
   "source": [
    "display(iso_codesDF)"
   ],
   "metadata": {
    "collapsed": false,
    "pycharm": {
     "name": "#%%\n"
    }
   }
  },
  {
   "cell_type": "code",
   "execution_count": 73,
   "outputs": [
    {
     "data": {
      "text/plain": "              location iso2Code iso3Code\n0          Afghanistan       AF      AFG\n1        Åland Islands       AX      ALA\n2              Albania       AL      ALB\n3              Algeria       DZ      DZA\n4       American Samoa       AS      ASM\n..                 ...      ...      ...\n244  Wallis and Futuna       WF      WLF\n245     Western Sahara       EH      ESH\n246              Yemen       YE      YEM\n247             Zambia       ZM      ZMB\n248           Zimbabwe       ZW      ZWE\n\n[249 rows x 3 columns]",
      "text/html": "<div>\n<style scoped>\n    .dataframe tbody tr th:only-of-type {\n        vertical-align: middle;\n    }\n\n    .dataframe tbody tr th {\n        vertical-align: top;\n    }\n\n    .dataframe thead th {\n        text-align: right;\n    }\n</style>\n<table border=\"1\" class=\"dataframe\">\n  <thead>\n    <tr style=\"text-align: right;\">\n      <th></th>\n      <th>location</th>\n      <th>iso2Code</th>\n      <th>iso3Code</th>\n    </tr>\n  </thead>\n  <tbody>\n    <tr>\n      <th>0</th>\n      <td>Afghanistan</td>\n      <td>AF</td>\n      <td>AFG</td>\n    </tr>\n    <tr>\n      <th>1</th>\n      <td>Åland Islands</td>\n      <td>AX</td>\n      <td>ALA</td>\n    </tr>\n    <tr>\n      <th>2</th>\n      <td>Albania</td>\n      <td>AL</td>\n      <td>ALB</td>\n    </tr>\n    <tr>\n      <th>3</th>\n      <td>Algeria</td>\n      <td>DZ</td>\n      <td>DZA</td>\n    </tr>\n    <tr>\n      <th>4</th>\n      <td>American Samoa</td>\n      <td>AS</td>\n      <td>ASM</td>\n    </tr>\n    <tr>\n      <th>...</th>\n      <td>...</td>\n      <td>...</td>\n      <td>...</td>\n    </tr>\n    <tr>\n      <th>244</th>\n      <td>Wallis and Futuna</td>\n      <td>WF</td>\n      <td>WLF</td>\n    </tr>\n    <tr>\n      <th>245</th>\n      <td>Western Sahara</td>\n      <td>EH</td>\n      <td>ESH</td>\n    </tr>\n    <tr>\n      <th>246</th>\n      <td>Yemen</td>\n      <td>YE</td>\n      <td>YEM</td>\n    </tr>\n    <tr>\n      <th>247</th>\n      <td>Zambia</td>\n      <td>ZM</td>\n      <td>ZMB</td>\n    </tr>\n    <tr>\n      <th>248</th>\n      <td>Zimbabwe</td>\n      <td>ZW</td>\n      <td>ZWE</td>\n    </tr>\n  </tbody>\n</table>\n<p>249 rows × 3 columns</p>\n</div>"
     },
     "execution_count": 73,
     "metadata": {},
     "output_type": "execute_result"
    }
   ],
   "source": [
    "casesDF.rename(columns={'Date_reported':'date', 'Country':'location', 'Country_code': 'iso2Code'}, inplace=True)\n",
    "\n",
    "vaccinationsDF.rename(columns={'iso_code': 'iso3Code'}, inplace=True)\n",
    "vaccinationsDF.drop(vaccinationsDF[(vaccinationsDF['iso3Code'].apply(len) != 3)].index, inplace=True)\n",
    "vaccinationsDF.reset_index(drop=True)\n",
    "\n",
    "iso_codesDF.drop(iso_codesDF.columns[[1, 2, 5, 6, 7]], axis=1, inplace=True)\n",
    "iso_codesDF.rename(columns={'Country name':'location', 'Alpha-2 code':'iso2Code', 'Alpha-3 code':'iso3Code'}, inplace=True)\n",
    "iso_codesDF = iso_codesDF.astype(str)\n",
    "iso_codesDF.drop(iso_codesDF[(iso_codesDF['iso2Code'].apply(len) != 2) | (iso_codesDF['iso3Code'].apply(len) != 3)].index, inplace=True)\n",
    "iso_codesDF.reset_index(drop=True)\n",
    "\n",
    "# Python czyta \"NA\" jako nan i sam to podmienia, wymagana ręczna naprawa.\n",
    "# iso_codesDF.loc[iso_codesDF['location'].str.contains('Namibia'), 'iso2Code'] = 'NA'"
   ],
   "metadata": {
    "collapsed": false,
    "pycharm": {
     "name": "#%%\n"
    }
   }
  },
  {
   "cell_type": "code",
   "execution_count": 74,
   "outputs": [],
   "source": [
    "tmp_df = reduce(lambda left, right: pd.merge(left, right, on=['iso3Code'], how='inner'), [vaccinationsDF, iso_codesDF])\n",
    "df = reduce(lambda left, right: pd.merge(left, right, on=['iso2Code', 'date'], how='outer'), [tmp_df, casesDF])"
   ],
   "metadata": {
    "collapsed": false,
    "pycharm": {
     "name": "#%%\n"
    }
   }
  },
  {
   "cell_type": "code",
   "execution_count": 75,
   "outputs": [],
   "source": [
    "df = df.drop(['location_x', 'location_y', 'WHO_region', 'iso3Code'], axis=1)"
   ],
   "metadata": {
    "collapsed": false,
    "pycharm": {
     "name": "#%%\n"
    }
   }
  },
  {
   "cell_type": "code",
   "execution_count": null,
   "outputs": [],
   "source": [
    "# display(casesDF['location'].where(casesDF['iso2Code'].isnull()).unique())\n",
    "# display(casesDF['iso2Code'].where(casesDF['location'].isnull()).unique())\n",
    "# display(df.loc[df['iso2Code'] == 'XA'])\n",
    "# display(df.isnull().sum())\n",
    "# display(df.count())\n",
    "display(df[df['iso3Code'].isna()])"
   ],
   "metadata": {
    "collapsed": false,
    "pycharm": {
     "name": "#%%\n"
    }
   }
  },
  {
   "cell_type": "code",
   "execution_count": null,
   "outputs": [],
   "source": [
    "\"\"\"\n",
    "display(len(df.location_x.unique()))\n",
    "display(len(df.location_y.unique()))\n",
    "display(len(df.location.unique()))\n",
    "# display(casesDF.tail(5))\n",
    "# display(vaccinationsDF.tail(5))\n",
    "\n",
    "# display(vaccinationsDF)\n",
    "display(iso_codesDF.location.unique().size)\n",
    "display(len(vaccinationsDF.iso3Code.unique()))\n",
    "# display(df['location'].where(['iso2Code'].isnull()))\n",
    "display(df.loc[df['location_x'].isnull()])\"\"\"\n",
    "display(casesDF.count())\n"
   ],
   "metadata": {
    "collapsed": false,
    "pycharm": {
     "name": "#%%\n"
    }
   }
  },
  {
   "cell_type": "code",
   "execution_count": null,
   "outputs": [],
   "source": [
    "def common_member(a, b):\n",
    "    result = [i for i in a if i not in b]\n",
    "    return len(result)\n",
    "\n",
    "# display(len(common_member(casesDF.location.unique(), vaccinationsDF.location.unique())))\n",
    "\n",
    "# display(common_member(casesDF.iso2Code.unique(), iso_codesDF.iso2Code.unique()))\n",
    "# display(common_member(vaccinationsDF.iso3Code.unique(), iso_codesDF.iso3Code.unique()))\n",
    "# display(casesDF.iso2Code.unique())\n",
    "# display(iso_codesDF.loc[iso_codesDF['location'] == 'Namibia'])\n",
    "display(common_member(df.location.unique(), df.location_x.unique()))"
   ],
   "metadata": {
    "collapsed": false,
    "pycharm": {
     "name": "#%%\n"
    }
   }
  },
  {
   "cell_type": "code",
   "execution_count": null,
   "outputs": [],
   "source": [
    "df = reduce(lambda left, right: pd.merge(left, right, on=['date', 'iso2Code', 'iso3Code'], how='outer'), [casesDF, vaccinationsDF, iso_codesDF])\n",
    "df = df.sort_values(by=['date', 'location'])\n",
    "df = df.sort_values(by=['date', 'location'])\n",
    "display(df.head(5))\n",
    "df.to_csv('merged2.csv', header=True, sep=';')"
   ],
   "metadata": {
    "collapsed": false,
    "pycharm": {
     "name": "#%%\n"
    }
   }
  },
  {
   "cell_type": "code",
   "execution_count": null,
   "outputs": [],
   "source": [
    "vaccinationsDF['date'] = pd.to_datetime(vaccinationsDF['date'], format='%Y-%m-%d').apply(lambda x: x.toordinal())\n",
    "casesDF['Date_reported'] = pd.to_datetime(casesDF['Date_reported'], format='%Y-%m-%d').apply(lambda x: x.toordinal())"
   ],
   "metadata": {
    "collapsed": false,
    "pycharm": {
     "name": "#%%\n"
    }
   }
  }
 ],
 "metadata": {
  "kernelspec": {
   "display_name": "Python 3",
   "language": "python",
   "name": "python3"
  },
  "language_info": {
   "codemirror_mode": {
    "name": "ipython",
    "version": 2
   },
   "file_extension": ".py",
   "mimetype": "text/x-python",
   "name": "python",
   "nbconvert_exporter": "python",
   "pygments_lexer": "ipython2",
   "version": "2.7.6"
  }
 },
 "nbformat": 4,
 "nbformat_minor": 0
}