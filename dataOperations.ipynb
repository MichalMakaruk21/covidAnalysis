{
 "cells": [
  {
   "cell_type": "code",
   "execution_count": 345,
   "metadata": {
    "collapsed": true,
    "pycharm": {
     "name": "#%%\n"
    }
   },
   "outputs": [],
   "source": [
    "import pandas as pd\n",
    "import numpy as np\n",
    "from functools import reduce\n",
    "from IPython.display import display\n",
    "# from sklearn.impute import KNNImputer # nie używam\n",
    "# from sklearn.neighbors import base\n",
    "import sklearn\n",
    "import sklearn.neighbors._base\n",
    "import sys\n",
    "sys.modules['sklearn.neighbors.base'] = sklearn.neighbors._base\n",
    "from missingpy import MissForest"
   ]
  },
  {
   "cell_type": "code",
   "execution_count": 346,
   "outputs": [],
   "source": [
    "vaccinationsDF = pd.read_csv('dataFiles/vaccinations.csv', sep=',', header=0, na_filter=False)\n",
    "casesDF = pd.read_csv('dataFiles/covidCases.csv', sep=',', header=0, na_filter=False)\n",
    "iso_codesDF = pd.read_csv('dataFiles/iso_codes.csv', sep=',', header=1, na_filter=False)"
   ],
   "metadata": {
    "collapsed": false,
    "pycharm": {
     "name": "#%%\n"
    }
   }
  },
  {
   "cell_type": "code",
   "execution_count": 347,
   "outputs": [],
   "source": [
    "casesDF.rename(columns={'Date_reported':'date', 'Country':'location', 'Country_code': 'iso2Code'}, inplace=True)\n",
    "\n",
    "vaccinationsDF.rename(columns={'iso_code': 'iso3Code'}, inplace=True)\n",
    "vaccinationsDF.drop(vaccinationsDF[(vaccinationsDF['iso3Code'].apply(len) != 3)].index, inplace=True)\n",
    "vaccinationsDF.reset_index(drop=True)\n",
    "\n",
    "iso_codesDF.drop(iso_codesDF.columns[[1, 2, 5, 6, 7]], axis=1, inplace=True)\n",
    "iso_codesDF.rename(columns={'Country name':'location', 'Alpha-2 code':'iso2Code', 'Alpha-3 code':'iso3Code'}, inplace=True)\n",
    "iso_codesDF = iso_codesDF.astype(str)\n",
    "iso_codesDF.drop(iso_codesDF[(iso_codesDF['iso2Code'].apply(len) != 2) | (iso_codesDF['iso3Code'].apply(len) != 3)].index, inplace=True)\n",
    "iso_codesDF = iso_codesDF.reset_index(drop=True)"
   ],
   "metadata": {
    "collapsed": false,
    "pycharm": {
     "name": "#%%\n"
    }
   }
  },
  {
   "cell_type": "code",
   "execution_count": 348,
   "outputs": [],
   "source": [
    "tmp_df = reduce(lambda left, right: pd.merge(left, right, on=['iso3Code'], how='inner'), [vaccinationsDF, iso_codesDF])\n",
    "df = reduce(lambda left, right: pd.merge(left, right, on=['iso2Code', 'date'], how='outer'), [tmp_df, casesDF])"
   ],
   "metadata": {
    "collapsed": false,
    "pycharm": {
     "name": "#%%\n"
    }
   }
  },
  {
   "cell_type": "code",
   "execution_count": 349,
   "outputs": [],
   "source": [
    "df['date'] = pd.to_datetime(df['date'], format='%Y.%m.%d').apply(lambda x: x.toordinal())"
   ],
   "metadata": {
    "collapsed": false,
    "pycharm": {
     "name": "#%%\n"
    }
   }
  },
  {
   "cell_type": "code",
   "execution_count": 350,
   "outputs": [],
   "source": [
    "df = df.drop(['location_x', 'location_y', 'WHO_region', 'iso3Code', 'total_vaccinations_per_hundred', 'total_vaccinations_per_hundred', 'people_vaccinated_per_hundred', 'people_fully_vaccinated_per_hundred', 'total_boosters_per_hundred', 'daily_vaccinations_per_million', 'daily_people_vaccinated_per_hundred', 'daily_vaccinations_raw'], axis=1)"
   ],
   "metadata": {
    "collapsed": false,
    "pycharm": {
     "name": "#%%\n"
    }
   }
  },
  {
   "cell_type": "code",
   "execution_count": 351,
   "outputs": [],
   "source": [
    "df = df.dropna(subset=['location'])\n",
    "df = df.drop(['location'], axis=1)\n",
    "df = df.reset_index(drop=True)"
   ],
   "metadata": {
    "collapsed": false,
    "pycharm": {
     "name": "#%%\n"
    }
   }
  },
  {
   "cell_type": "code",
   "execution_count": 352,
   "outputs": [],
   "source": [
    "# replace empty values with nam\n",
    "df = df.replace(r'^\\s*$', np.nan, regex=True)"
   ],
   "metadata": {
    "collapsed": false,
    "pycharm": {
     "name": "#%%\n"
    }
   }
  },
  {
   "cell_type": "code",
   "execution_count": 353,
   "outputs": [],
   "source": [
    "# Convert to int\n",
    "# Somehow function \"remove()\" does not work\n",
    "df_numeric_col = [x for x in df.columns.tolist() if x != 'iso2Code']\n",
    "df[df_numeric_col] = df[df_numeric_col].astype('Int64').astype('Float64')"
   ],
   "metadata": {
    "collapsed": false,
    "pycharm": {
     "name": "#%%\n"
    }
   }
  },
  {
   "cell_type": "raw",
   "source": [
    "Funkcja do cofnięcia get_dummies na gotowym df."
   ],
   "metadata": {
    "collapsed": false,
    "pycharm": {
     "name": "#%% raw\n"
    }
   }
  },
  {
   "cell_type": "code",
   "execution_count": 354,
   "outputs": [],
   "source": [
    "def undummify(df, prefix_sep=\"_\"):\n",
    "    cols2collapse = {\n",
    "        item.split(prefix_sep)[0]: (prefix_sep in item) for item in df.columns\n",
    "    }\n",
    "    series_list = []\n",
    "    for col, needs_to_collapse in cols2collapse.items():\n",
    "        if needs_to_collapse:\n",
    "            undummified = (\n",
    "                df.filter(like=col)\n",
    "                .idxmax(axis=1)\n",
    "                .apply(lambda x: x.split(prefix_sep, maxsplit=1)[1])\n",
    "                .rename(col)\n",
    "            )\n",
    "            series_list.append(undummified)\n",
    "        else:\n",
    "            series_list.append(df[col])\n",
    "    undummified_df = pd.concat(series_list, axis=1)\n",
    "    return undummified_df"
   ],
   "metadata": {
    "collapsed": false,
    "pycharm": {
     "name": "#%%\n"
    }
   }
  },
  {
   "cell_type": "code",
   "execution_count": 355,
   "outputs": [],
   "source": [
    "selected_countries = ['PL', 'DE', 'NO', 'BE', 'GB', 'UA']\n",
    "df_trimmed = df[df['iso2Code'].isin(selected_countries)]"
   ],
   "metadata": {
    "collapsed": false,
    "pycharm": {
     "name": "#%%\n"
    }
   }
  },
  {
   "cell_type": "code",
   "execution_count": 356,
   "outputs": [],
   "source": [
    "df_dummies = pd.get_dummies(df_trimmed)\n",
    "df_dummies =df_dummies.fillna(-1)"
   ],
   "metadata": {
    "collapsed": false,
    "pycharm": {
     "name": "#%%\n"
    }
   }
  },
  {
   "cell_type": "code",
   "execution_count": 357,
   "outputs": [
    {
     "data": {
      "text/plain": "            date  total_vaccinations  people_vaccinated  \\\n10101   737787.0               340.0              340.0   \n10102   737788.0               380.0              379.0   \n10103   737789.0               912.0              910.0   \n10104   737790.0               960.0              958.0   \n10105   737791.0               977.0              975.0   \n...          ...                 ...                ...   \n225219  738401.0                -1.0               -1.0   \n225220  738402.0                -1.0               -1.0   \n225221  738403.0                -1.0               -1.0   \n225222  738404.0                -1.0               -1.0   \n225223  738405.0                -1.0               -1.0   \n\n        people_fully_vaccinated  total_boosters  daily_vaccinations  \\\n10101                      -1.0            -1.0                -1.0   \n10102                      11.0            -1.0                40.0   \n10103                      21.0            -1.0               286.0   \n10104                      21.0            -1.0               207.0   \n10105                      21.0            -1.0               159.0   \n...                         ...             ...                 ...   \n225219                     -1.0            -1.0                -1.0   \n225220                     -1.0            -1.0                -1.0   \n225221                     -1.0            -1.0                -1.0   \n225222                     -1.0            -1.0                -1.0   \n225223                     -1.0            -1.0                -1.0   \n\n        daily_people_vaccinated  New_cases  Cumulative_cases  New_deaths  \\\n10101                      -1.0      530.0          641523.0        61.0   \n10102                      39.0     2641.0          644164.0        63.0   \n10103                     285.0     2270.0          646434.0        77.0   \n10104                     206.0     1980.0          648414.0        75.0   \n10105                     159.0     1626.0          650040.0        88.0   \n...                         ...        ...               ...         ...   \n225219                     -1.0        0.0         5056378.0         0.0   \n225220                     -1.0        0.0         5056378.0         0.0   \n225221                     -1.0    16155.0         5072533.0        44.0   \n225222                     -1.0        0.0         5072533.0         0.0   \n225223                     -1.0        0.0         5072533.0         0.0   \n\n        Cumulative_deaths  iso2Code_BE  iso2Code_DE  iso2Code_GB  iso2Code_NO  \\\n10101             19534.0            1            0            0            0   \n10102             19597.0            1            0            0            0   \n10103             19674.0            1            0            0            0   \n10104             19749.0            1            0            0            0   \n10105             19837.0            1            0            0            0   \n...                   ...          ...          ...          ...          ...   \n225219           108841.0            0            0            0            0   \n225220           108841.0            0            0            0            0   \n225221           108885.0            0            0            0            0   \n225222           108885.0            0            0            0            0   \n225223           108885.0            0            0            0            0   \n\n        iso2Code_PL  iso2Code_UA  \n10101             0            0  \n10102             0            0  \n10103             0            0  \n10104             0            0  \n10105             0            0  \n...             ...          ...  \n225219            0            1  \n225220            0            1  \n225221            0            1  \n225222            0            1  \n225223            0            1  \n\n[5874 rows x 17 columns]",
      "text/html": "<div>\n<style scoped>\n    .dataframe tbody tr th:only-of-type {\n        vertical-align: middle;\n    }\n\n    .dataframe tbody tr th {\n        vertical-align: top;\n    }\n\n    .dataframe thead th {\n        text-align: right;\n    }\n</style>\n<table border=\"1\" class=\"dataframe\">\n  <thead>\n    <tr style=\"text-align: right;\">\n      <th></th>\n      <th>date</th>\n      <th>total_vaccinations</th>\n      <th>people_vaccinated</th>\n      <th>people_fully_vaccinated</th>\n      <th>total_boosters</th>\n      <th>daily_vaccinations</th>\n      <th>daily_people_vaccinated</th>\n      <th>New_cases</th>\n      <th>Cumulative_cases</th>\n      <th>New_deaths</th>\n      <th>Cumulative_deaths</th>\n      <th>iso2Code_BE</th>\n      <th>iso2Code_DE</th>\n      <th>iso2Code_GB</th>\n      <th>iso2Code_NO</th>\n      <th>iso2Code_PL</th>\n      <th>iso2Code_UA</th>\n    </tr>\n  </thead>\n  <tbody>\n    <tr>\n      <th>10101</th>\n      <td>737787.0</td>\n      <td>340.0</td>\n      <td>340.0</td>\n      <td>-1.0</td>\n      <td>-1.0</td>\n      <td>-1.0</td>\n      <td>-1.0</td>\n      <td>530.0</td>\n      <td>641523.0</td>\n      <td>61.0</td>\n      <td>19534.0</td>\n      <td>1</td>\n      <td>0</td>\n      <td>0</td>\n      <td>0</td>\n      <td>0</td>\n      <td>0</td>\n    </tr>\n    <tr>\n      <th>10102</th>\n      <td>737788.0</td>\n      <td>380.0</td>\n      <td>379.0</td>\n      <td>11.0</td>\n      <td>-1.0</td>\n      <td>40.0</td>\n      <td>39.0</td>\n      <td>2641.0</td>\n      <td>644164.0</td>\n      <td>63.0</td>\n      <td>19597.0</td>\n      <td>1</td>\n      <td>0</td>\n      <td>0</td>\n      <td>0</td>\n      <td>0</td>\n      <td>0</td>\n    </tr>\n    <tr>\n      <th>10103</th>\n      <td>737789.0</td>\n      <td>912.0</td>\n      <td>910.0</td>\n      <td>21.0</td>\n      <td>-1.0</td>\n      <td>286.0</td>\n      <td>285.0</td>\n      <td>2270.0</td>\n      <td>646434.0</td>\n      <td>77.0</td>\n      <td>19674.0</td>\n      <td>1</td>\n      <td>0</td>\n      <td>0</td>\n      <td>0</td>\n      <td>0</td>\n      <td>0</td>\n    </tr>\n    <tr>\n      <th>10104</th>\n      <td>737790.0</td>\n      <td>960.0</td>\n      <td>958.0</td>\n      <td>21.0</td>\n      <td>-1.0</td>\n      <td>207.0</td>\n      <td>206.0</td>\n      <td>1980.0</td>\n      <td>648414.0</td>\n      <td>75.0</td>\n      <td>19749.0</td>\n      <td>1</td>\n      <td>0</td>\n      <td>0</td>\n      <td>0</td>\n      <td>0</td>\n      <td>0</td>\n    </tr>\n    <tr>\n      <th>10105</th>\n      <td>737791.0</td>\n      <td>977.0</td>\n      <td>975.0</td>\n      <td>21.0</td>\n      <td>-1.0</td>\n      <td>159.0</td>\n      <td>159.0</td>\n      <td>1626.0</td>\n      <td>650040.0</td>\n      <td>88.0</td>\n      <td>19837.0</td>\n      <td>1</td>\n      <td>0</td>\n      <td>0</td>\n      <td>0</td>\n      <td>0</td>\n      <td>0</td>\n    </tr>\n    <tr>\n      <th>...</th>\n      <td>...</td>\n      <td>...</td>\n      <td>...</td>\n      <td>...</td>\n      <td>...</td>\n      <td>...</td>\n      <td>...</td>\n      <td>...</td>\n      <td>...</td>\n      <td>...</td>\n      <td>...</td>\n      <td>...</td>\n      <td>...</td>\n      <td>...</td>\n      <td>...</td>\n      <td>...</td>\n      <td>...</td>\n    </tr>\n    <tr>\n      <th>225219</th>\n      <td>738401.0</td>\n      <td>-1.0</td>\n      <td>-1.0</td>\n      <td>-1.0</td>\n      <td>-1.0</td>\n      <td>-1.0</td>\n      <td>-1.0</td>\n      <td>0.0</td>\n      <td>5056378.0</td>\n      <td>0.0</td>\n      <td>108841.0</td>\n      <td>0</td>\n      <td>0</td>\n      <td>0</td>\n      <td>0</td>\n      <td>0</td>\n      <td>1</td>\n    </tr>\n    <tr>\n      <th>225220</th>\n      <td>738402.0</td>\n      <td>-1.0</td>\n      <td>-1.0</td>\n      <td>-1.0</td>\n      <td>-1.0</td>\n      <td>-1.0</td>\n      <td>-1.0</td>\n      <td>0.0</td>\n      <td>5056378.0</td>\n      <td>0.0</td>\n      <td>108841.0</td>\n      <td>0</td>\n      <td>0</td>\n      <td>0</td>\n      <td>0</td>\n      <td>0</td>\n      <td>1</td>\n    </tr>\n    <tr>\n      <th>225221</th>\n      <td>738403.0</td>\n      <td>-1.0</td>\n      <td>-1.0</td>\n      <td>-1.0</td>\n      <td>-1.0</td>\n      <td>-1.0</td>\n      <td>-1.0</td>\n      <td>16155.0</td>\n      <td>5072533.0</td>\n      <td>44.0</td>\n      <td>108885.0</td>\n      <td>0</td>\n      <td>0</td>\n      <td>0</td>\n      <td>0</td>\n      <td>0</td>\n      <td>1</td>\n    </tr>\n    <tr>\n      <th>225222</th>\n      <td>738404.0</td>\n      <td>-1.0</td>\n      <td>-1.0</td>\n      <td>-1.0</td>\n      <td>-1.0</td>\n      <td>-1.0</td>\n      <td>-1.0</td>\n      <td>0.0</td>\n      <td>5072533.0</td>\n      <td>0.0</td>\n      <td>108885.0</td>\n      <td>0</td>\n      <td>0</td>\n      <td>0</td>\n      <td>0</td>\n      <td>0</td>\n      <td>1</td>\n    </tr>\n    <tr>\n      <th>225223</th>\n      <td>738405.0</td>\n      <td>-1.0</td>\n      <td>-1.0</td>\n      <td>-1.0</td>\n      <td>-1.0</td>\n      <td>-1.0</td>\n      <td>-1.0</td>\n      <td>0.0</td>\n      <td>5072533.0</td>\n      <td>0.0</td>\n      <td>108885.0</td>\n      <td>0</td>\n      <td>0</td>\n      <td>0</td>\n      <td>0</td>\n      <td>0</td>\n      <td>1</td>\n    </tr>\n  </tbody>\n</table>\n<p>5874 rows × 17 columns</p>\n</div>"
     },
     "metadata": {},
     "output_type": "display_data"
    },
    {
     "data": {
      "text/plain": "date                       Float64\ntotal_vaccinations         Float64\npeople_vaccinated          Float64\npeople_fully_vaccinated    Float64\ntotal_boosters             Float64\ndaily_vaccinations         Float64\ndaily_people_vaccinated    Float64\nNew_cases                  Float64\nCumulative_cases           Float64\nNew_deaths                 Float64\nCumulative_deaths          Float64\niso2Code_BE                  uint8\niso2Code_DE                  uint8\niso2Code_GB                  uint8\niso2Code_NO                  uint8\niso2Code_PL                  uint8\niso2Code_UA                  uint8\ndtype: object"
     },
     "execution_count": 357,
     "metadata": {},
     "output_type": "execute_result"
    }
   ],
   "source": [
    "# display(df_dummies)\n",
    "# df_numeric_col = [x for x in df.columns.tolist() if x != 'iso2Code']\n",
    "# df_dummies.dtypes\n",
    "\n",
    "# df = df.where(df.isna, 'NaN', df).astype(str)\n",
    "\n",
    "# df_dummies[df_numeric_col] = df_dummies[df_numeric_col].dtype(str).fillna(r'NaN')"
   ],
   "metadata": {
    "collapsed": false,
    "pycharm": {
     "name": "#%%\n"
    }
   }
  },
  {
   "cell_type": "markdown",
   "source": [
    "Completion of empty data using ML"
   ],
   "metadata": {
    "collapsed": false,
    "pycharm": {
     "name": "#%% md\n"
    }
   }
  },
  {
   "cell_type": "code",
   "execution_count": 362,
   "outputs": [],
   "source": [
    "df_dummies_columns = df_dummies.columns.tolist()\n",
    "df_array = df_dummies.to_numpy()\n",
    "#df_array = df_dummies.values\n",
    "# [0 if math.isnan(x) else x for x in listname]\n",
    "# xd = [[-1 if math.isnan(v) else v for v in l] for l in df_array] # 'NaN' if math.isnan(v) for l\n",
    "# display(xd)"
   ],
   "metadata": {
    "collapsed": false,
    "pycharm": {
     "name": "#%%\n"
    }
   }
  },
  {
   "cell_type": "code",
   "execution_count": 363,
   "outputs": [
    {
     "name": "stdout",
     "output_type": "stream",
     "text": [
      "[[737787.0 340.0 340.0 ... 0 0 0]\n",
      " [737788.0 380.0 379.0 ... 0 0 0]\n",
      " [737789.0 912.0 910.0 ... 0 0 0]\n",
      " ...\n",
      " [738403.0 -1.0 -1.0 ... 0 0 1]\n",
      " [738404.0 -1.0 -1.0 ... 0 0 1]\n",
      " [738405.0 -1.0 -1.0 ... 0 0 1]]\n"
     ]
    }
   ],
   "source": [
    "# display(df_array)\n",
    "print(df_array)"
   ],
   "metadata": {
    "collapsed": false,
    "pycharm": {
     "name": "#%%\n"
    }
   }
  },
  {
   "cell_type": "code",
   "execution_count": 365,
   "outputs": [
    {
     "name": "stderr",
     "output_type": "stream",
     "text": [
      "C:\\Users\\HP\\PycharmProjects\\covidAnalysis\\venv\\lib\\site-packages\\sklearn\\ensemble\\_forest.py:400: FutureWarning: Criterion 'mse' was deprecated in v1.0 and will be removed in version 1.2. Use `criterion='squared_error'` which is equivalent.\n",
      "  warn(\n",
      "C:\\Users\\HP\\PycharmProjects\\covidAnalysis\\venv\\lib\\site-packages\\sklearn\\ensemble\\_forest.py:400: FutureWarning: Criterion 'mse' was deprecated in v1.0 and will be removed in version 1.2. Use `criterion='squared_error'` which is equivalent.\n",
      "  warn(\n",
      "C:\\Users\\HP\\PycharmProjects\\covidAnalysis\\venv\\lib\\site-packages\\sklearn\\ensemble\\_forest.py:400: FutureWarning: Criterion 'mse' was deprecated in v1.0 and will be removed in version 1.2. Use `criterion='squared_error'` which is equivalent.\n",
      "  warn(\n",
      "C:\\Users\\HP\\PycharmProjects\\covidAnalysis\\venv\\lib\\site-packages\\sklearn\\ensemble\\_forest.py:400: FutureWarning: Criterion 'mse' was deprecated in v1.0 and will be removed in version 1.2. Use `criterion='squared_error'` which is equivalent.\n",
      "  warn(\n",
      "C:\\Users\\HP\\PycharmProjects\\covidAnalysis\\venv\\lib\\site-packages\\sklearn\\ensemble\\_forest.py:400: FutureWarning: Criterion 'mse' was deprecated in v1.0 and will be removed in version 1.2. Use `criterion='squared_error'` which is equivalent.\n",
      "  warn(\n",
      "C:\\Users\\HP\\PycharmProjects\\covidAnalysis\\venv\\lib\\site-packages\\sklearn\\ensemble\\_forest.py:400: FutureWarning: Criterion 'mse' was deprecated in v1.0 and will be removed in version 1.2. Use `criterion='squared_error'` which is equivalent.\n",
      "  warn(\n"
     ]
    },
    {
     "name": "stdout",
     "output_type": "stream",
     "text": [
      "Iteration: 0\n"
     ]
    },
    {
     "name": "stderr",
     "output_type": "stream",
     "text": [
      "C:\\Users\\HP\\PycharmProjects\\covidAnalysis\\venv\\lib\\site-packages\\sklearn\\ensemble\\_forest.py:400: FutureWarning: Criterion 'mse' was deprecated in v1.0 and will be removed in version 1.2. Use `criterion='squared_error'` which is equivalent.\n",
      "  warn(\n",
      "C:\\Users\\HP\\PycharmProjects\\covidAnalysis\\venv\\lib\\site-packages\\sklearn\\ensemble\\_forest.py:400: FutureWarning: Criterion 'mse' was deprecated in v1.0 and will be removed in version 1.2. Use `criterion='squared_error'` which is equivalent.\n",
      "  warn(\n",
      "C:\\Users\\HP\\PycharmProjects\\covidAnalysis\\venv\\lib\\site-packages\\sklearn\\ensemble\\_forest.py:400: FutureWarning: Criterion 'mse' was deprecated in v1.0 and will be removed in version 1.2. Use `criterion='squared_error'` which is equivalent.\n",
      "  warn(\n",
      "C:\\Users\\HP\\PycharmProjects\\covidAnalysis\\venv\\lib\\site-packages\\sklearn\\ensemble\\_forest.py:400: FutureWarning: Criterion 'mse' was deprecated in v1.0 and will be removed in version 1.2. Use `criterion='squared_error'` which is equivalent.\n",
      "  warn(\n",
      "C:\\Users\\HP\\PycharmProjects\\covidAnalysis\\venv\\lib\\site-packages\\sklearn\\ensemble\\_forest.py:400: FutureWarning: Criterion 'mse' was deprecated in v1.0 and will be removed in version 1.2. Use `criterion='squared_error'` which is equivalent.\n",
      "  warn(\n",
      "C:\\Users\\HP\\PycharmProjects\\covidAnalysis\\venv\\lib\\site-packages\\sklearn\\ensemble\\_forest.py:400: FutureWarning: Criterion 'mse' was deprecated in v1.0 and will be removed in version 1.2. Use `criterion='squared_error'` which is equivalent.\n",
      "  warn(\n"
     ]
    },
    {
     "name": "stdout",
     "output_type": "stream",
     "text": [
      "Iteration: 1\n"
     ]
    },
    {
     "name": "stderr",
     "output_type": "stream",
     "text": [
      "C:\\Users\\HP\\PycharmProjects\\covidAnalysis\\venv\\lib\\site-packages\\sklearn\\ensemble\\_forest.py:400: FutureWarning: Criterion 'mse' was deprecated in v1.0 and will be removed in version 1.2. Use `criterion='squared_error'` which is equivalent.\n",
      "  warn(\n",
      "C:\\Users\\HP\\PycharmProjects\\covidAnalysis\\venv\\lib\\site-packages\\sklearn\\ensemble\\_forest.py:400: FutureWarning: Criterion 'mse' was deprecated in v1.0 and will be removed in version 1.2. Use `criterion='squared_error'` which is equivalent.\n",
      "  warn(\n",
      "C:\\Users\\HP\\PycharmProjects\\covidAnalysis\\venv\\lib\\site-packages\\sklearn\\ensemble\\_forest.py:400: FutureWarning: Criterion 'mse' was deprecated in v1.0 and will be removed in version 1.2. Use `criterion='squared_error'` which is equivalent.\n",
      "  warn(\n",
      "C:\\Users\\HP\\PycharmProjects\\covidAnalysis\\venv\\lib\\site-packages\\sklearn\\ensemble\\_forest.py:400: FutureWarning: Criterion 'mse' was deprecated in v1.0 and will be removed in version 1.2. Use `criterion='squared_error'` which is equivalent.\n",
      "  warn(\n",
      "C:\\Users\\HP\\PycharmProjects\\covidAnalysis\\venv\\lib\\site-packages\\sklearn\\ensemble\\_forest.py:400: FutureWarning: Criterion 'mse' was deprecated in v1.0 and will be removed in version 1.2. Use `criterion='squared_error'` which is equivalent.\n",
      "  warn(\n",
      "C:\\Users\\HP\\PycharmProjects\\covidAnalysis\\venv\\lib\\site-packages\\sklearn\\ensemble\\_forest.py:400: FutureWarning: Criterion 'mse' was deprecated in v1.0 and will be removed in version 1.2. Use `criterion='squared_error'` which is equivalent.\n",
      "  warn(\n"
     ]
    },
    {
     "name": "stdout",
     "output_type": "stream",
     "text": [
      "Iteration: 2\n"
     ]
    },
    {
     "name": "stderr",
     "output_type": "stream",
     "text": [
      "C:\\Users\\HP\\PycharmProjects\\covidAnalysis\\venv\\lib\\site-packages\\sklearn\\ensemble\\_forest.py:400: FutureWarning: Criterion 'mse' was deprecated in v1.0 and will be removed in version 1.2. Use `criterion='squared_error'` which is equivalent.\n",
      "  warn(\n",
      "C:\\Users\\HP\\PycharmProjects\\covidAnalysis\\venv\\lib\\site-packages\\sklearn\\ensemble\\_forest.py:400: FutureWarning: Criterion 'mse' was deprecated in v1.0 and will be removed in version 1.2. Use `criterion='squared_error'` which is equivalent.\n",
      "  warn(\n",
      "C:\\Users\\HP\\PycharmProjects\\covidAnalysis\\venv\\lib\\site-packages\\sklearn\\ensemble\\_forest.py:400: FutureWarning: Criterion 'mse' was deprecated in v1.0 and will be removed in version 1.2. Use `criterion='squared_error'` which is equivalent.\n",
      "  warn(\n",
      "C:\\Users\\HP\\PycharmProjects\\covidAnalysis\\venv\\lib\\site-packages\\sklearn\\ensemble\\_forest.py:400: FutureWarning: Criterion 'mse' was deprecated in v1.0 and will be removed in version 1.2. Use `criterion='squared_error'` which is equivalent.\n",
      "  warn(\n",
      "C:\\Users\\HP\\PycharmProjects\\covidAnalysis\\venv\\lib\\site-packages\\sklearn\\ensemble\\_forest.py:400: FutureWarning: Criterion 'mse' was deprecated in v1.0 and will be removed in version 1.2. Use `criterion='squared_error'` which is equivalent.\n",
      "  warn(\n",
      "C:\\Users\\HP\\PycharmProjects\\covidAnalysis\\venv\\lib\\site-packages\\sklearn\\ensemble\\_forest.py:400: FutureWarning: Criterion 'mse' was deprecated in v1.0 and will be removed in version 1.2. Use `criterion='squared_error'` which is equivalent.\n",
      "  warn(\n"
     ]
    },
    {
     "name": "stdout",
     "output_type": "stream",
     "text": [
      "Iteration: 3\n"
     ]
    },
    {
     "name": "stderr",
     "output_type": "stream",
     "text": [
      "C:\\Users\\HP\\PycharmProjects\\covidAnalysis\\venv\\lib\\site-packages\\sklearn\\ensemble\\_forest.py:400: FutureWarning: Criterion 'mse' was deprecated in v1.0 and will be removed in version 1.2. Use `criterion='squared_error'` which is equivalent.\n",
      "  warn(\n",
      "C:\\Users\\HP\\PycharmProjects\\covidAnalysis\\venv\\lib\\site-packages\\sklearn\\ensemble\\_forest.py:400: FutureWarning: Criterion 'mse' was deprecated in v1.0 and will be removed in version 1.2. Use `criterion='squared_error'` which is equivalent.\n",
      "  warn(\n",
      "C:\\Users\\HP\\PycharmProjects\\covidAnalysis\\venv\\lib\\site-packages\\sklearn\\ensemble\\_forest.py:400: FutureWarning: Criterion 'mse' was deprecated in v1.0 and will be removed in version 1.2. Use `criterion='squared_error'` which is equivalent.\n",
      "  warn(\n",
      "C:\\Users\\HP\\PycharmProjects\\covidAnalysis\\venv\\lib\\site-packages\\sklearn\\ensemble\\_forest.py:400: FutureWarning: Criterion 'mse' was deprecated in v1.0 and will be removed in version 1.2. Use `criterion='squared_error'` which is equivalent.\n",
      "  warn(\n",
      "C:\\Users\\HP\\PycharmProjects\\covidAnalysis\\venv\\lib\\site-packages\\sklearn\\ensemble\\_forest.py:400: FutureWarning: Criterion 'mse' was deprecated in v1.0 and will be removed in version 1.2. Use `criterion='squared_error'` which is equivalent.\n",
      "  warn(\n",
      "C:\\Users\\HP\\PycharmProjects\\covidAnalysis\\venv\\lib\\site-packages\\sklearn\\ensemble\\_forest.py:400: FutureWarning: Criterion 'mse' was deprecated in v1.0 and will be removed in version 1.2. Use `criterion='squared_error'` which is equivalent.\n",
      "  warn(\n"
     ]
    },
    {
     "name": "stdout",
     "output_type": "stream",
     "text": [
      "Iteration: 4\n"
     ]
    },
    {
     "name": "stderr",
     "output_type": "stream",
     "text": [
      "C:\\Users\\HP\\PycharmProjects\\covidAnalysis\\venv\\lib\\site-packages\\sklearn\\ensemble\\_forest.py:400: FutureWarning: Criterion 'mse' was deprecated in v1.0 and will be removed in version 1.2. Use `criterion='squared_error'` which is equivalent.\n",
      "  warn(\n",
      "C:\\Users\\HP\\PycharmProjects\\covidAnalysis\\venv\\lib\\site-packages\\sklearn\\ensemble\\_forest.py:400: FutureWarning: Criterion 'mse' was deprecated in v1.0 and will be removed in version 1.2. Use `criterion='squared_error'` which is equivalent.\n",
      "  warn(\n",
      "C:\\Users\\HP\\PycharmProjects\\covidAnalysis\\venv\\lib\\site-packages\\sklearn\\ensemble\\_forest.py:400: FutureWarning: Criterion 'mse' was deprecated in v1.0 and will be removed in version 1.2. Use `criterion='squared_error'` which is equivalent.\n",
      "  warn(\n",
      "C:\\Users\\HP\\PycharmProjects\\covidAnalysis\\venv\\lib\\site-packages\\sklearn\\ensemble\\_forest.py:400: FutureWarning: Criterion 'mse' was deprecated in v1.0 and will be removed in version 1.2. Use `criterion='squared_error'` which is equivalent.\n",
      "  warn(\n",
      "C:\\Users\\HP\\PycharmProjects\\covidAnalysis\\venv\\lib\\site-packages\\sklearn\\ensemble\\_forest.py:400: FutureWarning: Criterion 'mse' was deprecated in v1.0 and will be removed in version 1.2. Use `criterion='squared_error'` which is equivalent.\n",
      "  warn(\n",
      "C:\\Users\\HP\\PycharmProjects\\covidAnalysis\\venv\\lib\\site-packages\\sklearn\\ensemble\\_forest.py:400: FutureWarning: Criterion 'mse' was deprecated in v1.0 and will be removed in version 1.2. Use `criterion='squared_error'` which is equivalent.\n",
      "  warn(\n"
     ]
    },
    {
     "name": "stdout",
     "output_type": "stream",
     "text": [
      "Iteration: 5\n"
     ]
    },
    {
     "name": "stderr",
     "output_type": "stream",
     "text": [
      "C:\\Users\\HP\\PycharmProjects\\covidAnalysis\\venv\\lib\\site-packages\\sklearn\\ensemble\\_forest.py:400: FutureWarning: Criterion 'mse' was deprecated in v1.0 and will be removed in version 1.2. Use `criterion='squared_error'` which is equivalent.\n",
      "  warn(\n",
      "C:\\Users\\HP\\PycharmProjects\\covidAnalysis\\venv\\lib\\site-packages\\sklearn\\ensemble\\_forest.py:400: FutureWarning: Criterion 'mse' was deprecated in v1.0 and will be removed in version 1.2. Use `criterion='squared_error'` which is equivalent.\n",
      "  warn(\n",
      "C:\\Users\\HP\\PycharmProjects\\covidAnalysis\\venv\\lib\\site-packages\\sklearn\\ensemble\\_forest.py:400: FutureWarning: Criterion 'mse' was deprecated in v1.0 and will be removed in version 1.2. Use `criterion='squared_error'` which is equivalent.\n",
      "  warn(\n",
      "C:\\Users\\HP\\PycharmProjects\\covidAnalysis\\venv\\lib\\site-packages\\sklearn\\ensemble\\_forest.py:400: FutureWarning: Criterion 'mse' was deprecated in v1.0 and will be removed in version 1.2. Use `criterion='squared_error'` which is equivalent.\n",
      "  warn(\n",
      "C:\\Users\\HP\\PycharmProjects\\covidAnalysis\\venv\\lib\\site-packages\\sklearn\\ensemble\\_forest.py:400: FutureWarning: Criterion 'mse' was deprecated in v1.0 and will be removed in version 1.2. Use `criterion='squared_error'` which is equivalent.\n",
      "  warn(\n",
      "C:\\Users\\HP\\PycharmProjects\\covidAnalysis\\venv\\lib\\site-packages\\sklearn\\ensemble\\_forest.py:400: FutureWarning: Criterion 'mse' was deprecated in v1.0 and will be removed in version 1.2. Use `criterion='squared_error'` which is equivalent.\n",
      "  warn(\n"
     ]
    },
    {
     "name": "stdout",
     "output_type": "stream",
     "text": [
      "Iteration: 6\n"
     ]
    }
   ],
   "source": [
    "RF_transformator = MissForest(random_state=0, missing_values=-1, max_features='sqrt', criterion='squared_error', class_weight='balanced_subsample')\n",
    "df_array_transformed = RF_transformator.fit_transform(df_array)"
   ],
   "metadata": {
    "collapsed": false,
    "pycharm": {
     "name": "#%%\n"
    }
   }
  },
  {
   "cell_type": "code",
   "execution_count": 366,
   "outputs": [
    {
     "data": {
      "text/plain": "          date  total_vaccinations  people_vaccinated  \\\n0     737787.0              340.00             340.00   \n1     737788.0              380.00             379.00   \n2     737789.0              912.00             910.00   \n3     737790.0              960.00             958.00   \n4     737791.0              977.00             975.00   \n...        ...                 ...                ...   \n5869  738401.0         43432363.93        21106980.11   \n5870  738402.0         43432363.93        21106980.11   \n5871  738403.0         42996668.97        21163046.23   \n5872  738404.0         43433895.08        21107313.88   \n5873  738405.0         43433895.08        21107313.88   \n\n      people_fully_vaccinated  total_boosters  daily_vaccinations  \\\n0                    11364.88       760599.79             1640.31   \n1                       11.00      1094813.20               40.00   \n2                       21.00      1088175.68              286.00   \n3                       21.00      1104734.27              207.00   \n4                       21.00      1109980.91              159.00   \n...                       ...             ...                 ...   \n5869              19749330.31      7145008.85            48604.99   \n5870              19749330.31      7145008.85            48604.99   \n5871              19898951.09      6704275.25            58165.61   \n5872              19749330.31      7145008.85            48604.99   \n5873              19749330.31      7145008.85            48604.99   \n\n      daily_people_vaccinated  New_cases  Cumulative_cases  New_deaths  \\\n0                      956.90      530.0          641523.0        61.0   \n1                       39.00     2641.0          644164.0        63.0   \n2                      285.00     2270.0          646434.0        77.0   \n3                      206.00     1980.0          648414.0        75.0   \n4                      159.00     1626.0          650040.0        88.0   \n...                       ...        ...               ...         ...   \n5869                 11307.34        0.0         5056378.0         0.0   \n5870                 11307.34        0.0         5056378.0         0.0   \n5871                 13086.64    16155.0         5072533.0        44.0   \n5872                 11179.27        0.0         5072533.0         0.0   \n5873                 11179.27        0.0         5072533.0         0.0   \n\n      Cumulative_deaths  iso2Code_BE  iso2Code_DE  iso2Code_GB  iso2Code_NO  \\\n0               19534.0          1.0          0.0          0.0          0.0   \n1               19597.0          1.0          0.0          0.0          0.0   \n2               19674.0          1.0          0.0          0.0          0.0   \n3               19749.0          1.0          0.0          0.0          0.0   \n4               19837.0          1.0          0.0          0.0          0.0   \n...                 ...          ...          ...          ...          ...   \n5869           108841.0          0.0          0.0          0.0          0.0   \n5870           108841.0          0.0          0.0          0.0          0.0   \n5871           108885.0          0.0          0.0          0.0          0.0   \n5872           108885.0          0.0          0.0          0.0          0.0   \n5873           108885.0          0.0          0.0          0.0          0.0   \n\n      iso2Code_PL  iso2Code_UA  \n0             0.0          0.0  \n1             0.0          0.0  \n2             0.0          0.0  \n3             0.0          0.0  \n4             0.0          0.0  \n...           ...          ...  \n5869          0.0          1.0  \n5870          0.0          1.0  \n5871          0.0          1.0  \n5872          0.0          1.0  \n5873          0.0          1.0  \n\n[5874 rows x 17 columns]",
      "text/html": "<div>\n<style scoped>\n    .dataframe tbody tr th:only-of-type {\n        vertical-align: middle;\n    }\n\n    .dataframe tbody tr th {\n        vertical-align: top;\n    }\n\n    .dataframe thead th {\n        text-align: right;\n    }\n</style>\n<table border=\"1\" class=\"dataframe\">\n  <thead>\n    <tr style=\"text-align: right;\">\n      <th></th>\n      <th>date</th>\n      <th>total_vaccinations</th>\n      <th>people_vaccinated</th>\n      <th>people_fully_vaccinated</th>\n      <th>total_boosters</th>\n      <th>daily_vaccinations</th>\n      <th>daily_people_vaccinated</th>\n      <th>New_cases</th>\n      <th>Cumulative_cases</th>\n      <th>New_deaths</th>\n      <th>Cumulative_deaths</th>\n      <th>iso2Code_BE</th>\n      <th>iso2Code_DE</th>\n      <th>iso2Code_GB</th>\n      <th>iso2Code_NO</th>\n      <th>iso2Code_PL</th>\n      <th>iso2Code_UA</th>\n    </tr>\n  </thead>\n  <tbody>\n    <tr>\n      <th>0</th>\n      <td>737787.0</td>\n      <td>340.00</td>\n      <td>340.00</td>\n      <td>11364.88</td>\n      <td>760599.79</td>\n      <td>1640.31</td>\n      <td>956.90</td>\n      <td>530.0</td>\n      <td>641523.0</td>\n      <td>61.0</td>\n      <td>19534.0</td>\n      <td>1.0</td>\n      <td>0.0</td>\n      <td>0.0</td>\n      <td>0.0</td>\n      <td>0.0</td>\n      <td>0.0</td>\n    </tr>\n    <tr>\n      <th>1</th>\n      <td>737788.0</td>\n      <td>380.00</td>\n      <td>379.00</td>\n      <td>11.00</td>\n      <td>1094813.20</td>\n      <td>40.00</td>\n      <td>39.00</td>\n      <td>2641.0</td>\n      <td>644164.0</td>\n      <td>63.0</td>\n      <td>19597.0</td>\n      <td>1.0</td>\n      <td>0.0</td>\n      <td>0.0</td>\n      <td>0.0</td>\n      <td>0.0</td>\n      <td>0.0</td>\n    </tr>\n    <tr>\n      <th>2</th>\n      <td>737789.0</td>\n      <td>912.00</td>\n      <td>910.00</td>\n      <td>21.00</td>\n      <td>1088175.68</td>\n      <td>286.00</td>\n      <td>285.00</td>\n      <td>2270.0</td>\n      <td>646434.0</td>\n      <td>77.0</td>\n      <td>19674.0</td>\n      <td>1.0</td>\n      <td>0.0</td>\n      <td>0.0</td>\n      <td>0.0</td>\n      <td>0.0</td>\n      <td>0.0</td>\n    </tr>\n    <tr>\n      <th>3</th>\n      <td>737790.0</td>\n      <td>960.00</td>\n      <td>958.00</td>\n      <td>21.00</td>\n      <td>1104734.27</td>\n      <td>207.00</td>\n      <td>206.00</td>\n      <td>1980.0</td>\n      <td>648414.0</td>\n      <td>75.0</td>\n      <td>19749.0</td>\n      <td>1.0</td>\n      <td>0.0</td>\n      <td>0.0</td>\n      <td>0.0</td>\n      <td>0.0</td>\n      <td>0.0</td>\n    </tr>\n    <tr>\n      <th>4</th>\n      <td>737791.0</td>\n      <td>977.00</td>\n      <td>975.00</td>\n      <td>21.00</td>\n      <td>1109980.91</td>\n      <td>159.00</td>\n      <td>159.00</td>\n      <td>1626.0</td>\n      <td>650040.0</td>\n      <td>88.0</td>\n      <td>19837.0</td>\n      <td>1.0</td>\n      <td>0.0</td>\n      <td>0.0</td>\n      <td>0.0</td>\n      <td>0.0</td>\n      <td>0.0</td>\n    </tr>\n    <tr>\n      <th>...</th>\n      <td>...</td>\n      <td>...</td>\n      <td>...</td>\n      <td>...</td>\n      <td>...</td>\n      <td>...</td>\n      <td>...</td>\n      <td>...</td>\n      <td>...</td>\n      <td>...</td>\n      <td>...</td>\n      <td>...</td>\n      <td>...</td>\n      <td>...</td>\n      <td>...</td>\n      <td>...</td>\n      <td>...</td>\n    </tr>\n    <tr>\n      <th>5869</th>\n      <td>738401.0</td>\n      <td>43432363.93</td>\n      <td>21106980.11</td>\n      <td>19749330.31</td>\n      <td>7145008.85</td>\n      <td>48604.99</td>\n      <td>11307.34</td>\n      <td>0.0</td>\n      <td>5056378.0</td>\n      <td>0.0</td>\n      <td>108841.0</td>\n      <td>0.0</td>\n      <td>0.0</td>\n      <td>0.0</td>\n      <td>0.0</td>\n      <td>0.0</td>\n      <td>1.0</td>\n    </tr>\n    <tr>\n      <th>5870</th>\n      <td>738402.0</td>\n      <td>43432363.93</td>\n      <td>21106980.11</td>\n      <td>19749330.31</td>\n      <td>7145008.85</td>\n      <td>48604.99</td>\n      <td>11307.34</td>\n      <td>0.0</td>\n      <td>5056378.0</td>\n      <td>0.0</td>\n      <td>108841.0</td>\n      <td>0.0</td>\n      <td>0.0</td>\n      <td>0.0</td>\n      <td>0.0</td>\n      <td>0.0</td>\n      <td>1.0</td>\n    </tr>\n    <tr>\n      <th>5871</th>\n      <td>738403.0</td>\n      <td>42996668.97</td>\n      <td>21163046.23</td>\n      <td>19898951.09</td>\n      <td>6704275.25</td>\n      <td>58165.61</td>\n      <td>13086.64</td>\n      <td>16155.0</td>\n      <td>5072533.0</td>\n      <td>44.0</td>\n      <td>108885.0</td>\n      <td>0.0</td>\n      <td>0.0</td>\n      <td>0.0</td>\n      <td>0.0</td>\n      <td>0.0</td>\n      <td>1.0</td>\n    </tr>\n    <tr>\n      <th>5872</th>\n      <td>738404.0</td>\n      <td>43433895.08</td>\n      <td>21107313.88</td>\n      <td>19749330.31</td>\n      <td>7145008.85</td>\n      <td>48604.99</td>\n      <td>11179.27</td>\n      <td>0.0</td>\n      <td>5072533.0</td>\n      <td>0.0</td>\n      <td>108885.0</td>\n      <td>0.0</td>\n      <td>0.0</td>\n      <td>0.0</td>\n      <td>0.0</td>\n      <td>0.0</td>\n      <td>1.0</td>\n    </tr>\n    <tr>\n      <th>5873</th>\n      <td>738405.0</td>\n      <td>43433895.08</td>\n      <td>21107313.88</td>\n      <td>19749330.31</td>\n      <td>7145008.85</td>\n      <td>48604.99</td>\n      <td>11179.27</td>\n      <td>0.0</td>\n      <td>5072533.0</td>\n      <td>0.0</td>\n      <td>108885.0</td>\n      <td>0.0</td>\n      <td>0.0</td>\n      <td>0.0</td>\n      <td>0.0</td>\n      <td>0.0</td>\n      <td>1.0</td>\n    </tr>\n  </tbody>\n</table>\n<p>5874 rows × 17 columns</p>\n</div>"
     },
     "metadata": {},
     "output_type": "display_data"
    }
   ],
   "source": [
    "df_dum_transformed = pd.DataFrame(data=df_array_transformed, columns=df_dummies_columns)\n",
    "display(df_dum_transformed)"
   ],
   "metadata": {
    "collapsed": false,
    "pycharm": {
     "name": "#%%\n"
    }
   }
  },
  {
   "cell_type": "code",
   "execution_count": 376,
   "outputs": [],
   "source": [
    "df_transformed = undummify(df_dum_transformed, prefix_sep='Code_')\n",
    "df_transformed.rename(columns={'iso2': 'iso2Code'}, inplace=True)"
   ],
   "metadata": {
    "collapsed": false,
    "pycharm": {
     "name": "#%%\n"
    }
   }
  },
  {
   "cell_type": "code",
   "execution_count": 377,
   "outputs": [
    {
     "data": {
      "text/plain": "        date  total_vaccinations  people_vaccinated  people_fully_vaccinated  \\\n0   737787.0               340.0              340.0                 11364.88   \n1   737788.0               380.0              379.0                    11.00   \n2   737789.0               912.0              910.0                    21.00   \n3   737790.0               960.0              958.0                    21.00   \n4   737791.0               977.0              975.0                    21.00   \n5   737792.0              1002.0             1000.0                    34.00   \n6   737793.0              1036.0             1034.0                    34.00   \n7   737794.0              1109.0             1106.0                    50.00   \n8   737795.0              2902.0             2896.0                    79.00   \n9   737796.0              6933.0             6926.0                   108.00   \n10  737797.0             15448.0            15434.0                   129.00   \n11  737798.0             24895.0            24873.0                   182.00   \n12  737799.0             28194.0            28169.0                   201.00   \n13  737800.0             28692.0            28665.0                   203.00   \n14  737801.0             34443.0            34405.0                   223.00   \n\n    total_boosters  daily_vaccinations  daily_people_vaccinated  New_cases  \\\n0        760599.79             1640.31                    956.9      530.0   \n1       1094813.20               40.00                     39.0     2641.0   \n2       1088175.68              286.00                    285.0     2270.0   \n3       1104734.27              207.00                    206.0     1980.0   \n4       1109980.91              159.00                    159.0     1626.0   \n5       1062014.32              132.00                    132.0      469.0   \n6       1070509.40              116.00                    116.0     1051.0   \n7        983001.86              110.00                    109.0      732.0   \n8       1024511.86              360.00                    360.0     2907.0   \n9        781851.69              860.00                    859.0     2625.0   \n10       680332.87             2070.00                   2068.0     2302.0   \n11       662309.39             3417.00                   3414.0     1810.0   \n12       642268.69             3885.00                   3881.0     1935.0   \n13       623653.60             3951.00                   3947.0     1302.0   \n14       623515.78             4762.00                   4757.0      808.0   \n\n    Cumulative_cases  New_deaths  Cumulative_deaths iso2  \n0           641523.0        61.0            19534.0   BE  \n1           644164.0        63.0            19597.0   BE  \n2           646434.0        77.0            19674.0   BE  \n3           648414.0        75.0            19749.0   BE  \n4           650040.0        88.0            19837.0   BE  \n5           650509.0        51.0            19888.0   BE  \n6           651560.0        64.0            19952.0   BE  \n7           652292.0        42.0            19994.0   BE  \n8           655199.0        59.0            20053.0   BE  \n9           657824.0        63.0            20116.0   BE  \n10          660126.0        57.0            20173.0   BE  \n11          661936.0        53.0            20226.0   BE  \n12          663871.0        50.0            20276.0   BE  \n13          665173.0        52.0            20328.0   BE  \n14          665981.0        57.0            20385.0   BE  ",
      "text/html": "<div>\n<style scoped>\n    .dataframe tbody tr th:only-of-type {\n        vertical-align: middle;\n    }\n\n    .dataframe tbody tr th {\n        vertical-align: top;\n    }\n\n    .dataframe thead th {\n        text-align: right;\n    }\n</style>\n<table border=\"1\" class=\"dataframe\">\n  <thead>\n    <tr style=\"text-align: right;\">\n      <th></th>\n      <th>date</th>\n      <th>total_vaccinations</th>\n      <th>people_vaccinated</th>\n      <th>people_fully_vaccinated</th>\n      <th>total_boosters</th>\n      <th>daily_vaccinations</th>\n      <th>daily_people_vaccinated</th>\n      <th>New_cases</th>\n      <th>Cumulative_cases</th>\n      <th>New_deaths</th>\n      <th>Cumulative_deaths</th>\n      <th>iso2</th>\n    </tr>\n  </thead>\n  <tbody>\n    <tr>\n      <th>0</th>\n      <td>737787.0</td>\n      <td>340.0</td>\n      <td>340.0</td>\n      <td>11364.88</td>\n      <td>760599.79</td>\n      <td>1640.31</td>\n      <td>956.9</td>\n      <td>530.0</td>\n      <td>641523.0</td>\n      <td>61.0</td>\n      <td>19534.0</td>\n      <td>BE</td>\n    </tr>\n    <tr>\n      <th>1</th>\n      <td>737788.0</td>\n      <td>380.0</td>\n      <td>379.0</td>\n      <td>11.00</td>\n      <td>1094813.20</td>\n      <td>40.00</td>\n      <td>39.0</td>\n      <td>2641.0</td>\n      <td>644164.0</td>\n      <td>63.0</td>\n      <td>19597.0</td>\n      <td>BE</td>\n    </tr>\n    <tr>\n      <th>2</th>\n      <td>737789.0</td>\n      <td>912.0</td>\n      <td>910.0</td>\n      <td>21.00</td>\n      <td>1088175.68</td>\n      <td>286.00</td>\n      <td>285.0</td>\n      <td>2270.0</td>\n      <td>646434.0</td>\n      <td>77.0</td>\n      <td>19674.0</td>\n      <td>BE</td>\n    </tr>\n    <tr>\n      <th>3</th>\n      <td>737790.0</td>\n      <td>960.0</td>\n      <td>958.0</td>\n      <td>21.00</td>\n      <td>1104734.27</td>\n      <td>207.00</td>\n      <td>206.0</td>\n      <td>1980.0</td>\n      <td>648414.0</td>\n      <td>75.0</td>\n      <td>19749.0</td>\n      <td>BE</td>\n    </tr>\n    <tr>\n      <th>4</th>\n      <td>737791.0</td>\n      <td>977.0</td>\n      <td>975.0</td>\n      <td>21.00</td>\n      <td>1109980.91</td>\n      <td>159.00</td>\n      <td>159.0</td>\n      <td>1626.0</td>\n      <td>650040.0</td>\n      <td>88.0</td>\n      <td>19837.0</td>\n      <td>BE</td>\n    </tr>\n    <tr>\n      <th>5</th>\n      <td>737792.0</td>\n      <td>1002.0</td>\n      <td>1000.0</td>\n      <td>34.00</td>\n      <td>1062014.32</td>\n      <td>132.00</td>\n      <td>132.0</td>\n      <td>469.0</td>\n      <td>650509.0</td>\n      <td>51.0</td>\n      <td>19888.0</td>\n      <td>BE</td>\n    </tr>\n    <tr>\n      <th>6</th>\n      <td>737793.0</td>\n      <td>1036.0</td>\n      <td>1034.0</td>\n      <td>34.00</td>\n      <td>1070509.40</td>\n      <td>116.00</td>\n      <td>116.0</td>\n      <td>1051.0</td>\n      <td>651560.0</td>\n      <td>64.0</td>\n      <td>19952.0</td>\n      <td>BE</td>\n    </tr>\n    <tr>\n      <th>7</th>\n      <td>737794.0</td>\n      <td>1109.0</td>\n      <td>1106.0</td>\n      <td>50.00</td>\n      <td>983001.86</td>\n      <td>110.00</td>\n      <td>109.0</td>\n      <td>732.0</td>\n      <td>652292.0</td>\n      <td>42.0</td>\n      <td>19994.0</td>\n      <td>BE</td>\n    </tr>\n    <tr>\n      <th>8</th>\n      <td>737795.0</td>\n      <td>2902.0</td>\n      <td>2896.0</td>\n      <td>79.00</td>\n      <td>1024511.86</td>\n      <td>360.00</td>\n      <td>360.0</td>\n      <td>2907.0</td>\n      <td>655199.0</td>\n      <td>59.0</td>\n      <td>20053.0</td>\n      <td>BE</td>\n    </tr>\n    <tr>\n      <th>9</th>\n      <td>737796.0</td>\n      <td>6933.0</td>\n      <td>6926.0</td>\n      <td>108.00</td>\n      <td>781851.69</td>\n      <td>860.00</td>\n      <td>859.0</td>\n      <td>2625.0</td>\n      <td>657824.0</td>\n      <td>63.0</td>\n      <td>20116.0</td>\n      <td>BE</td>\n    </tr>\n    <tr>\n      <th>10</th>\n      <td>737797.0</td>\n      <td>15448.0</td>\n      <td>15434.0</td>\n      <td>129.00</td>\n      <td>680332.87</td>\n      <td>2070.00</td>\n      <td>2068.0</td>\n      <td>2302.0</td>\n      <td>660126.0</td>\n      <td>57.0</td>\n      <td>20173.0</td>\n      <td>BE</td>\n    </tr>\n    <tr>\n      <th>11</th>\n      <td>737798.0</td>\n      <td>24895.0</td>\n      <td>24873.0</td>\n      <td>182.00</td>\n      <td>662309.39</td>\n      <td>3417.00</td>\n      <td>3414.0</td>\n      <td>1810.0</td>\n      <td>661936.0</td>\n      <td>53.0</td>\n      <td>20226.0</td>\n      <td>BE</td>\n    </tr>\n    <tr>\n      <th>12</th>\n      <td>737799.0</td>\n      <td>28194.0</td>\n      <td>28169.0</td>\n      <td>201.00</td>\n      <td>642268.69</td>\n      <td>3885.00</td>\n      <td>3881.0</td>\n      <td>1935.0</td>\n      <td>663871.0</td>\n      <td>50.0</td>\n      <td>20276.0</td>\n      <td>BE</td>\n    </tr>\n    <tr>\n      <th>13</th>\n      <td>737800.0</td>\n      <td>28692.0</td>\n      <td>28665.0</td>\n      <td>203.00</td>\n      <td>623653.60</td>\n      <td>3951.00</td>\n      <td>3947.0</td>\n      <td>1302.0</td>\n      <td>665173.0</td>\n      <td>52.0</td>\n      <td>20328.0</td>\n      <td>BE</td>\n    </tr>\n    <tr>\n      <th>14</th>\n      <td>737801.0</td>\n      <td>34443.0</td>\n      <td>34405.0</td>\n      <td>223.00</td>\n      <td>623515.78</td>\n      <td>4762.00</td>\n      <td>4757.0</td>\n      <td>808.0</td>\n      <td>665981.0</td>\n      <td>57.0</td>\n      <td>20385.0</td>\n      <td>BE</td>\n    </tr>\n  </tbody>\n</table>\n</div>"
     },
     "metadata": {},
     "output_type": "display_data"
    }
   ],
   "source": [
    "display(df_transformed.head(15))"
   ],
   "metadata": {
    "collapsed": false,
    "pycharm": {
     "name": "#%%\n"
    }
   }
  },
  {
   "cell_type": "code",
   "execution_count": null,
   "outputs": [],
   "source": [
    "# df.to_csv('merged.csv', header=True, sep=';')"
   ],
   "metadata": {
    "collapsed": false,
    "pycharm": {
     "name": "#%%\n"
    }
   }
  },
  {
   "cell_type": "code",
   "execution_count": null,
   "outputs": [],
   "source": [
    "# df_transformed = pd.Dataframe(df_array_transformed).transpose()\n",
    "# df_transformed.columns = df_dummies_columns"
   ],
   "metadata": {
    "collapsed": false,
    "pycharm": {
     "name": "#%%\n"
    }
   }
  },
  {
   "cell_type": "code",
   "execution_count": null,
   "outputs": [],
   "source": [
    "\"\"\"\n",
    "\n",
    "# display(casesDF['location'].where(casesDF['iso2Code'].isnull()).unique())\n",
    "# display(casesDF['iso2Code'].where(casesDF['location'].isnull()).unique())\n",
    "# display(df.loc[df['iso2Code'] == 'XA'])\n",
    "# display(df.isnull().sum())\n",
    "# display(df.count())\n",
    "# display(df[df['iso3Code'].isna()])\n",
    "display(df.date)\n",
    "\n",
    "display(len(df.location_x.unique()))\n",
    "display(len(df.location_y.unique()))\n",
    "display(len(df.location.unique()))\n",
    "# display(casesDF.tail(5))\n",
    "# display(vaccinationsDF.tail(5))\n",
    "\n",
    "# display(vaccinationsDF)\n",
    "display(iso_codesDF.location.unique().size)\n",
    "display(len(vaccinationsDF.iso3Code.unique()))\n",
    "# display(df['location'].where(['iso2Code'].isnull()))\n",
    "display(df.loc[df['location_x'].isnull()])\n",
    "display(casesDF.count())\n",
    "\n",
    "\n",
    "def common_member(a, b):\n",
    "    result = [i for i in a if i not in b]\n",
    "    return len(result)\n",
    "\n",
    "# display(len(common_member(casesDF.location.unique(), vaccinationsDF.location.unique())))\n",
    "\n",
    "# display(common_member(casesDF.iso2Code.unique(), iso_codesDF.iso2Code.unique()))\n",
    "# display(common_member(vaccinationsDF.iso3Code.unique(), iso_codesDF.iso3Code.unique()))\n",
    "# display(casesDF.iso2Code.unique())\n",
    "# display(iso_codesDF.loc[iso_codesDF['location'] == 'Namibia'])\n",
    "display(common_member(df.location.unique(), df.location_x.unique()))\n",
    "\"\"\""
   ],
   "metadata": {
    "collapsed": false,
    "pycharm": {
     "name": "#%%\n"
    }
   }
  }
 ],
 "metadata": {
  "kernelspec": {
   "display_name": "Python 3",
   "language": "python",
   "name": "python3"
  },
  "language_info": {
   "codemirror_mode": {
    "name": "ipython",
    "version": 2
   },
   "file_extension": ".py",
   "mimetype": "text/x-python",
   "name": "python",
   "nbconvert_exporter": "python",
   "pygments_lexer": "ipython2",
   "version": "2.7.6"
  }
 },
 "nbformat": 4,
 "nbformat_minor": 0
}