{
 "cells": [
  {
   "cell_type": "code",
   "execution_count": 1,
   "metadata": {
    "collapsed": true,
    "pycharm": {
     "name": "#%%\n"
    }
   },
   "outputs": [],
   "source": [
    "import pandas as pd\n",
    "import numpy as np\n",
    "from functools import reduce\n",
    "from IPython.display import display\n",
    "import re"
   ]
  },
  {
   "cell_type": "code",
   "execution_count": 2,
   "outputs": [],
   "source": [
    "vaccinationsDF = pd.read_csv('dataFiles/vaccinations.csv', sep=',', header=0)\n",
    "casesDF = pd.read_csv('dataFiles/covidCases.csv', sep=',', header=0)\n",
    "iso_codesDF = pd.read_csv('dataFiles/iso_codes.csv', sep=',', header=1)"
   ],
   "metadata": {
    "collapsed": false,
    "pycharm": {
     "name": "#%%\n"
    }
   }
  },
  {
   "cell_type": "code",
   "execution_count": 3,
   "outputs": [],
   "source": [
    "casesDF.rename(columns={'Date_reported':'date', 'Country':'location'}, inplace=True)\n",
    "iso_codesDF.drop(iso_codesDF.columns[[1, 2, 5, 6, 7]], axis=1, inplace=True)\n",
    "iso_codesDF.rename(columns={'Country name':'location', 'Alpha-2 code':'iso2Code', 'Alpha-3 code':'iso3Code'}, inplace=True)\n"
   ],
   "metadata": {
    "collapsed": false,
    "pycharm": {
     "name": "#%%\n"
    }
   }
  },
  {
   "cell_type": "code",
   "execution_count": 4,
   "outputs": [
    {
     "data": {
      "text/plain": "location    248\niso2Code    248\niso3Code    248\ndtype: int64"
     },
     "metadata": {},
     "output_type": "display_data"
    }
   ],
   "source": [
    "iso_codesDF = iso_codesDF.astype(str)\n",
    "iso_codesDF.drop(iso_codesDF[(iso_codesDF['iso2Code'].apply(len) != 2) | (iso_codesDF['iso3Code'].apply(len) != 3)].index, inplace=True)\n",
    "# iso_codesDF = iso_codesDF['iso2Code'].apply(lambda x: x if len(x) == 2 else iso_codesDF[x.index].drop(axis=1))\n",
    "\n",
    "# iso_codesDF = iso_codesDF.loc[iso_codesDF.iloc[:, 1].str.contains(r'?![a-zA-Z]{2}', regex=True, na=False, flags=re.IGNORECASE)]\n",
    "    # iso_codesDF.iso2Code == r'^[a-zA-Z]{2}') | (iso_codesDF.iso3Code == r'^[a-zA-Z]{3}')]\n",
    "display(iso_codesDF.count())\n",
    "\n",
    "#display(iso_codesDF.head(5))"
   ],
   "metadata": {
    "collapsed": false,
    "pycharm": {
     "name": "#%%\n"
    }
   }
  },
  {
   "cell_type": "code",
   "execution_count": null,
   "outputs": [],
   "source": [
    "display(casesDF.isnull().sum())\n",
    "\n",
    "display(casesDF['Country'].where(casesDF['Country_code'].isnull()).unique())\n",
    "display(vaccinationsDF.isnull().sum())"
   ],
   "metadata": {
    "collapsed": false,
    "pycharm": {
     "name": "#%%\n"
    }
   }
  },
  {
   "cell_type": "code",
   "execution_count": 18,
   "outputs": [],
   "source": [],
   "metadata": {
    "collapsed": false,
    "pycharm": {
     "name": "#%%\n"
    }
   }
  },
  {
   "cell_type": "code",
   "execution_count": 9,
   "outputs": [
    {
     "data": {
      "text/plain": "237"
     },
     "metadata": {},
     "output_type": "display_data"
    },
    {
     "data": {
      "text/plain": "235"
     },
     "metadata": {},
     "output_type": "display_data"
    },
    {
     "data": {
      "text/plain": "248"
     },
     "metadata": {},
     "output_type": "display_data"
    }
   ],
   "source": [
    "display(len(casesDF.location.unique()))\n",
    "display(len(vaccinationsDF.location.unique()))\n",
    "display(len(iso_codesDF.location.unique()))\n",
    "# display(casesDF.tail(5))\n",
    "# display(vaccinationsDF.tail(5))\n",
    "\n",
    "# display(vaccinationsDF)"
   ],
   "metadata": {
    "collapsed": false,
    "pycharm": {
     "name": "#%%\n"
    }
   }
  },
  {
   "cell_type": "code",
   "execution_count": 10,
   "outputs": [
    {
     "data": {
      "text/plain": "189"
     },
     "metadata": {},
     "output_type": "display_data"
    },
    {
     "data": {
      "text/plain": "231"
     },
     "metadata": {},
     "output_type": "display_data"
    },
    {
     "data": {
      "text/plain": "216"
     },
     "metadata": {},
     "output_type": "display_data"
    }
   ],
   "source": [
    "def common_member(a, b):\n",
    "    result = [i for i in a if i in b]\n",
    "    return len(result)\n",
    "\n",
    "display(common_member(casesDF.location.unique(), vaccinationsDF.location.unique()))\n",
    "\n",
    "display(common_member(casesDF.Country_code.unique(), iso_codesDF.iso2Code.unique()))\n",
    "display(common_member(vaccinationsDF.iso_code.unique(), iso_codesDF.iso3Code.unique()))"
   ],
   "metadata": {
    "collapsed": false,
    "pycharm": {
     "name": "#%%\n"
    }
   }
  },
  {
   "cell_type": "code",
   "execution_count": 25,
   "outputs": [
    {
     "data": {
      "text/plain": "          date Country_code     location WHO_region  New_cases  \\\n232023  719163          NaN  Afghanistan        NaN        NaN   \n232024  719163          NaN  Afghanistan        NaN        NaN   \n232025  719163          NaN  Afghanistan        NaN        NaN   \n232026  719163          NaN  Afghanistan        NaN        NaN   \n232027  719163          NaN  Afghanistan        NaN        NaN   \n\n        Cumulative_cases  New_deaths  Cumulative_deaths iso_code  \\\n232023               NaN         NaN                NaN      AFG   \n232024               NaN         NaN                NaN      AFG   \n232025               NaN         NaN                NaN      AFG   \n232026               NaN         NaN                NaN      AFG   \n232027               NaN         NaN                NaN      AFG   \n\n        total_vaccinations  ...  total_boosters  daily_vaccinations_raw  \\\n232023                 0.0  ...             NaN                     NaN   \n232024                 NaN  ...             NaN                     NaN   \n232025                 NaN  ...             NaN                     NaN   \n232026                 NaN  ...             NaN                     NaN   \n232027                 NaN  ...             NaN                     NaN   \n\n        daily_vaccinations  total_vaccinations_per_hundred  \\\n232023                 NaN                             0.0   \n232024              1367.0                             NaN   \n232025              1367.0                             NaN   \n232026              1367.0                             NaN   \n232027              1367.0                             NaN   \n\n        people_vaccinated_per_hundred  people_fully_vaccinated_per_hundred  \\\n232023                            0.0                                  NaN   \n232024                            NaN                                  NaN   \n232025                            NaN                                  NaN   \n232026                            NaN                                  NaN   \n232027                            NaN                                  NaN   \n\n        total_boosters_per_hundred  daily_vaccinations_per_million  \\\n232023                         NaN                             NaN   \n232024                         NaN                            34.0   \n232025                         NaN                            34.0   \n232026                         NaN                            34.0   \n232027                         NaN                            34.0   \n\n        daily_people_vaccinated  daily_people_vaccinated_per_hundred  \n232023                      NaN                                  NaN  \n232024                   1367.0                                0.003  \n232025                   1367.0                                0.003  \n232026                   1367.0                                0.003  \n232027                   1367.0                                0.003  \n\n[5 rows x 22 columns]",
      "text/html": "<div>\n<style scoped>\n    .dataframe tbody tr th:only-of-type {\n        vertical-align: middle;\n    }\n\n    .dataframe tbody tr th {\n        vertical-align: top;\n    }\n\n    .dataframe thead th {\n        text-align: right;\n    }\n</style>\n<table border=\"1\" class=\"dataframe\">\n  <thead>\n    <tr style=\"text-align: right;\">\n      <th></th>\n      <th>date</th>\n      <th>Country_code</th>\n      <th>location</th>\n      <th>WHO_region</th>\n      <th>New_cases</th>\n      <th>Cumulative_cases</th>\n      <th>New_deaths</th>\n      <th>Cumulative_deaths</th>\n      <th>iso_code</th>\n      <th>total_vaccinations</th>\n      <th>...</th>\n      <th>total_boosters</th>\n      <th>daily_vaccinations_raw</th>\n      <th>daily_vaccinations</th>\n      <th>total_vaccinations_per_hundred</th>\n      <th>people_vaccinated_per_hundred</th>\n      <th>people_fully_vaccinated_per_hundred</th>\n      <th>total_boosters_per_hundred</th>\n      <th>daily_vaccinations_per_million</th>\n      <th>daily_people_vaccinated</th>\n      <th>daily_people_vaccinated_per_hundred</th>\n    </tr>\n  </thead>\n  <tbody>\n    <tr>\n      <th>232023</th>\n      <td>719163</td>\n      <td>NaN</td>\n      <td>Afghanistan</td>\n      <td>NaN</td>\n      <td>NaN</td>\n      <td>NaN</td>\n      <td>NaN</td>\n      <td>NaN</td>\n      <td>AFG</td>\n      <td>0.0</td>\n      <td>...</td>\n      <td>NaN</td>\n      <td>NaN</td>\n      <td>NaN</td>\n      <td>0.0</td>\n      <td>0.0</td>\n      <td>NaN</td>\n      <td>NaN</td>\n      <td>NaN</td>\n      <td>NaN</td>\n      <td>NaN</td>\n    </tr>\n    <tr>\n      <th>232024</th>\n      <td>719163</td>\n      <td>NaN</td>\n      <td>Afghanistan</td>\n      <td>NaN</td>\n      <td>NaN</td>\n      <td>NaN</td>\n      <td>NaN</td>\n      <td>NaN</td>\n      <td>AFG</td>\n      <td>NaN</td>\n      <td>...</td>\n      <td>NaN</td>\n      <td>NaN</td>\n      <td>1367.0</td>\n      <td>NaN</td>\n      <td>NaN</td>\n      <td>NaN</td>\n      <td>NaN</td>\n      <td>34.0</td>\n      <td>1367.0</td>\n      <td>0.003</td>\n    </tr>\n    <tr>\n      <th>232025</th>\n      <td>719163</td>\n      <td>NaN</td>\n      <td>Afghanistan</td>\n      <td>NaN</td>\n      <td>NaN</td>\n      <td>NaN</td>\n      <td>NaN</td>\n      <td>NaN</td>\n      <td>AFG</td>\n      <td>NaN</td>\n      <td>...</td>\n      <td>NaN</td>\n      <td>NaN</td>\n      <td>1367.0</td>\n      <td>NaN</td>\n      <td>NaN</td>\n      <td>NaN</td>\n      <td>NaN</td>\n      <td>34.0</td>\n      <td>1367.0</td>\n      <td>0.003</td>\n    </tr>\n    <tr>\n      <th>232026</th>\n      <td>719163</td>\n      <td>NaN</td>\n      <td>Afghanistan</td>\n      <td>NaN</td>\n      <td>NaN</td>\n      <td>NaN</td>\n      <td>NaN</td>\n      <td>NaN</td>\n      <td>AFG</td>\n      <td>NaN</td>\n      <td>...</td>\n      <td>NaN</td>\n      <td>NaN</td>\n      <td>1367.0</td>\n      <td>NaN</td>\n      <td>NaN</td>\n      <td>NaN</td>\n      <td>NaN</td>\n      <td>34.0</td>\n      <td>1367.0</td>\n      <td>0.003</td>\n    </tr>\n    <tr>\n      <th>232027</th>\n      <td>719163</td>\n      <td>NaN</td>\n      <td>Afghanistan</td>\n      <td>NaN</td>\n      <td>NaN</td>\n      <td>NaN</td>\n      <td>NaN</td>\n      <td>NaN</td>\n      <td>AFG</td>\n      <td>NaN</td>\n      <td>...</td>\n      <td>NaN</td>\n      <td>NaN</td>\n      <td>1367.0</td>\n      <td>NaN</td>\n      <td>NaN</td>\n      <td>NaN</td>\n      <td>NaN</td>\n      <td>34.0</td>\n      <td>1367.0</td>\n      <td>0.003</td>\n    </tr>\n  </tbody>\n</table>\n<p>5 rows × 22 columns</p>\n</div>"
     },
     "metadata": {},
     "output_type": "display_data"
    }
   ],
   "source": [
    "df = reduce(lambda left, right: pd.merge(left, right, on=['location', 'date'], how='outer'), [casesDF, vaccinationsDF])\n",
    "df = df.sort_values(by=['date', 'location'])\n",
    "display(df.head(5))\n",
    "df.to_csv('merged.csv', header=True, sep=';')"
   ],
   "metadata": {
    "collapsed": false,
    "pycharm": {
     "name": "#%%\n"
    }
   }
  },
  {
   "cell_type": "code",
   "execution_count": 26,
   "outputs": [
    {
     "data": {
      "text/plain": "Index(['date', 'Country_code', 'location', 'WHO_region', 'New_cases',\n       'Cumulative_cases', 'New_deaths', 'Cumulative_deaths', 'iso_code',\n       'total_vaccinations', 'people_vaccinated', 'people_fully_vaccinated',\n       'total_boosters', 'daily_vaccinations_raw', 'daily_vaccinations',\n       'total_vaccinations_per_hundred', 'people_vaccinated_per_hundred',\n       'people_fully_vaccinated_per_hundred', 'total_boosters_per_hundred',\n       'daily_vaccinations_per_million', 'daily_people_vaccinated',\n       'daily_people_vaccinated_per_hundred'],\n      dtype='object')"
     },
     "metadata": {},
     "output_type": "display_data"
    }
   ],
   "source": [
    "display(df.columns)"
   ],
   "metadata": {
    "collapsed": false,
    "pycharm": {
     "name": "#%%\n"
    }
   }
  },
  {
   "cell_type": "code",
   "execution_count": 23,
   "outputs": [
    {
     "data": {
      "text/plain": "date                                   357647\nCountry_code                           231044\nlocation                               357647\nWHO_region                             232023\nNew_cases                              232023\nCumulative_cases                       232023\nNew_deaths                             232023\nCumulative_deaths                      232023\niso_code                               125624\ntotal_vaccinations                      62397\npeople_vaccinated                       59634\npeople_fully_vaccinated                 56968\ntotal_boosters                          32720\ndaily_vaccinations_raw                  51733\ndaily_vaccinations                     124919\ntotal_vaccinations_per_hundred          62397\npeople_vaccinated_per_hundred           59634\npeople_fully_vaccinated_per_hundred     56968\ntotal_boosters_per_hundred              32720\ndaily_vaccinations_per_million         124919\ndaily_people_vaccinated                124175\ndaily_people_vaccinated_per_hundred    124175\ndtype: int64"
     },
     "metadata": {},
     "output_type": "display_data"
    }
   ],
   "source": [
    "display(df.count())"
   ],
   "metadata": {
    "collapsed": false,
    "pycharm": {
     "name": "#%%\n"
    }
   }
  },
  {
   "cell_type": "code",
   "execution_count": null,
   "outputs": [],
   "source": [
    "vaccinationsDF['date'] = pd.to_datetime(vaccinationsDF['date'], format='%Y-%m-%d').apply(lambda x: x.toordinal())\n",
    "casesDF['Date_reported'] = pd.to_datetime(casesDF['Date_reported'], format='%Y-%m-%d').apply(lambda x: x.toordinal())"
   ],
   "metadata": {
    "collapsed": false,
    "pycharm": {
     "name": "#%%\n"
    }
   }
  }
 ],
 "metadata": {
  "kernelspec": {
   "display_name": "Python 3",
   "language": "python",
   "name": "python3"
  },
  "language_info": {
   "codemirror_mode": {
    "name": "ipython",
    "version": 2
   },
   "file_extension": ".py",
   "mimetype": "text/x-python",
   "name": "python",
   "nbconvert_exporter": "python",
   "pygments_lexer": "ipython2",
   "version": "2.7.6"
  }
 },
 "nbformat": 4,
 "nbformat_minor": 0
}